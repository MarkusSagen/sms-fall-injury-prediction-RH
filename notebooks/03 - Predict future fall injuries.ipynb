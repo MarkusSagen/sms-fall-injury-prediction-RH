{
 "cells": [
  {
   "cell_type": "markdown",
   "id": "52f79a6d",
   "metadata": {},
   "source": [
    "### When trainingset = 300 Pos, 2000 Neg  \n",
    "\n",
    "\n",
    "The baseline TF-IDF model is a VERY strong Baseline. Tim at Peltarion has previously worked with these models, so it is engineered to be a very strong baseline across multiple classification tasks.   \n",
    "\n",
    "| Model | Accuracy | F1 Score |\n",
    "| :- | -: | :-: |\n",
    "| TF-IDF (baseline (word + char)) | 0.989 | 0.9661 |\n",
    "| TF-IDF (baseline (word)) | 0.9752 | 0.9244 |\n",
    "| TF-IDF (word + Random Forest cls) | 0.9477 | 0.8224 |\n",
    "| KB-BERT | 0.962204 | 0.925067 |\n"
   ]
  },
  {
   "cell_type": "code",
   "execution_count": 1,
   "id": "cb398586",
   "metadata": {},
   "outputs": [],
   "source": [
    "# Train and test on 2016 data\n",
    "# train = 1449 \n",
    "# valid = 363 \n",
    "import os\n",
    "\n",
    "import matplotlib.pyplot as plt\n",
    "import numpy as np\n",
    "import pandas as pd\n",
    "\n",
    "from functools import reduce\n",
    "\n",
    "from sklearn import metrics\n",
    "from sklearn.ensemble import RandomForestClassifier\n",
    "from sklearn.feature_extraction.text import TfidfVectorizer\n",
    "from sklearn.metrics import accuracy_score, f1_score, recall_score, precision_score\n",
    "from sklearn.model_selection import train_test_split\n",
    "from sklearn.pipeline import FeatureUnion, make_pipeline\n",
    "from sklearn.preprocessing import LabelEncoder\n",
    "from sklearn.svm import LinearSVC, SVC\n",
    "\n",
    "from sklearn.model_selection import cross_val_score\n",
    "from sklearn.model_selection import KFold\n",
    "\n",
    "np.random.seed(0)\n",
    "%matplotlib inline"
   ]
  },
  {
   "cell_type": "code",
   "execution_count": 2,
   "id": "f2981a4b",
   "metadata": {},
   "outputs": [],
   "source": [
    "def plot_roc_curve(y_true, y_probs, figure_name=None):\n",
    "    \"\"\"Make ROC curve if clf model has predictons with `clf.predict_proba()`.\"\"\"\n",
    "    \n",
    "    fpr, tpr, _ = metrics.roc_curve(y_true, y_probs[:, 1])\n",
    "    roc_auc = metrics.auc(fpr, tpr)\n",
    "\n",
    "    plt.figure(figsize=(6, 4))\n",
    "    lw = 2\n",
    "    plt.plot(fpr, tpr, lw=lw, label='AUC (area = %0.4f)' % roc_auc)\n",
    "    plt.plot([0, 1], [0, 1], color='grey', lw=lw, linestyle='dashed')\n",
    "    plt.xlim([-0.05, 1.0])\n",
    "    plt.ylim([-0.05, 1.05])\n",
    "    plt.xlabel('True Positive Rate', fontsize=14)\n",
    "    plt.ylabel('False Positive Rate', fontsize=14)\n",
    "    plt.title('')\n",
    "    plt.legend(loc=\"lower right\")\n",
    "    \n",
    "    if figure_name is not None:\n",
    "        plt.savefig(figure_name)"
   ]
  },
  {
   "cell_type": "code",
   "execution_count": 3,
   "id": "a7d3daaf",
   "metadata": {},
   "outputs": [],
   "source": [
    "def plot_confusion_matrix(cm, class_names, \n",
    "                          cmap=plt.cm.Blues,\n",
    "                          figure_name=None,\n",
    "                          title=None,\n",
    "                          normalized=True,\n",
    "                          all_horizontal=True):\n",
    "    \n",
    "    \"\"\"Plot the confusion matrix for a Sklearn model.\"\"\"\n",
    "    \n",
    "    plt.figure(figsize=(8,5))\n",
    "    plt.imshow(cm,interpolation='nearest',cmap=cmap)\n",
    "    if title is not None:\n",
    "        plt.title(title, fontsize=16)\n",
    "    plt.colorbar()\n",
    "\n",
    "    tick_marks = np.arange(len(class_names))\n",
    "    plt.xticks(tick_marks, class_names, rotation=0, fontsize=15)\n",
    "    plt.yticks(tick_marks, class_names, rotation=(0 if all_horizontal else 90), fontsize=15)\n",
    "    thresh = cm.max()/2\n",
    "\n",
    "    for i, j in itertools.product(range(cm.shape[0]), range(cm.shape[1])):\n",
    "        if normalized:\n",
    "            plt.text(j, i, \"{:.3f}\".format(cm[i, j]), horizontalalignment=\"center\",fontsize=15, color=\"white\" if cm[i, j] > thresh else \"black\")\n",
    "        else:\n",
    "            plt.text(j, i, \"{:.0f}\".format(cm[i, j]), horizontalalignment=\"center\",fontsize=15, color=\"white\" if cm[i, j] > thresh else \"black\")\n",
    "\n",
    "        plt.tight_layout()\n",
    "        plt.ylabel('True Label',fontsize=20)\n",
    "        plt.xlabel('Predicted Label',fontsize=20)\n",
    "        \n",
    "    if figure_name is not None:\n",
    "        plt.savefig(figure_name)"
   ]
  },
  {
   "cell_type": "code",
   "execution_count": 4,
   "id": "0558dccb",
   "metadata": {},
   "outputs": [
    {
     "data": {
      "text/html": [
       "<div>\n",
       "<style scoped>\n",
       "    .dataframe tbody tr th:only-of-type {\n",
       "        vertical-align: middle;\n",
       "    }\n",
       "\n",
       "    .dataframe tbody tr th {\n",
       "        vertical-align: top;\n",
       "    }\n",
       "\n",
       "    .dataframe thead th {\n",
       "        text-align: right;\n",
       "    }\n",
       "</style>\n",
       "<table border=\"1\" class=\"dataframe\">\n",
       "  <thead>\n",
       "    <tr style=\"text-align: right;\">\n",
       "      <th></th>\n",
       "      <th>id</th>\n",
       "      <th>text</th>\n",
       "      <th>time</th>\n",
       "      <th>label</th>\n",
       "      <th>gender</th>\n",
       "      <th>age</th>\n",
       "    </tr>\n",
       "  </thead>\n",
       "  <tbody>\n",
       "    <tr>\n",
       "      <th>0</th>\n",
       "      <td>21</td>\n",
       "      <td>Perfect! Looked and looked for this book. Enga...</td>\n",
       "      <td>67</td>\n",
       "      <td>0</td>\n",
       "      <td>1</td>\n",
       "      <td>67</td>\n",
       "    </tr>\n",
       "    <tr>\n",
       "      <th>1</th>\n",
       "      <td>22</td>\n",
       "      <td>Good variety Easy to hard. Stolz (1997, 2010) ...</td>\n",
       "      <td>23</td>\n",
       "      <td>0</td>\n",
       "      <td>0</td>\n",
       "      <td>84</td>\n",
       "    </tr>\n",
       "    <tr>\n",
       "      <th>2</th>\n",
       "      <td>24</td>\n",
       "      <td>great way to teach kids classical music throug...</td>\n",
       "      <td>131</td>\n",
       "      <td>0</td>\n",
       "      <td>1</td>\n",
       "      <td>72</td>\n",
       "    </tr>\n",
       "    <tr>\n",
       "      <th>3</th>\n",
       "      <td>28</td>\n",
       "      <td>This is a fun read on a fun topic by an intere...</td>\n",
       "      <td>89</td>\n",
       "      <td>0</td>\n",
       "      <td>0</td>\n",
       "      <td>56</td>\n",
       "    </tr>\n",
       "    <tr>\n",
       "      <th>4</th>\n",
       "      <td>29</td>\n",
       "      <td>one of my mainstay devotionals This book is re...</td>\n",
       "      <td>117</td>\n",
       "      <td>0</td>\n",
       "      <td>0</td>\n",
       "      <td>76</td>\n",
       "    </tr>\n",
       "  </tbody>\n",
       "</table>\n",
       "</div>"
      ],
      "text/plain": [
       "   id                                               text  time  label  gender  \\\n",
       "0  21  Perfect! Looked and looked for this book. Enga...    67      0       1   \n",
       "1  22  Good variety Easy to hard. Stolz (1997, 2010) ...    23      0       0   \n",
       "2  24  great way to teach kids classical music throug...   131      0       1   \n",
       "3  28  This is a fun read on a fun topic by an intere...    89      0       0   \n",
       "4  29  one of my mainstay devotionals This book is re...   117      0       0   \n",
       "\n",
       "   age  \n",
       "0   67  \n",
       "1   84  \n",
       "2   72  \n",
       "3   56  \n",
       "4   76  "
      ]
     },
     "execution_count": 4,
     "metadata": {},
     "output_type": "execute_result"
    }
   ],
   "source": [
    "df = pd.read_csv(\"../data/df_to_predict_fall_injuries.csv\")\n",
    "df.head()"
   ]
  },
  {
   "cell_type": "code",
   "execution_count": 5,
   "id": "a04f6c30",
   "metadata": {},
   "outputs": [],
   "source": [
    "splits = [\"train\", \"valid\", \"test\"]\n",
    "split_probability = [.8, .1, .1]\n",
    "\n",
    "if \"Set\" not in df.columns:\n",
    "    df[\"Set\"] = np.random.choice(splits, \n",
    "                                 p=split_probability, \n",
    "                                 size=(df.shape[0],))\n",
    "\n",
    "# concat all the features\n",
    "df[\"text_with_features\"] = df.apply(lambda x: \\\n",
    "              (\"Gender: \" + (\"Man\" if x.gender == 1 else \"Kvinna\") + \". \"  \\\n",
    "               + \"Age: \"  + str(x.age)  + \". \" \\\n",
    "               + \"Time: \" + str(x.time) + \". \" \\\n",
    "               + x.text), axis=1)"
   ]
  },
  {
   "cell_type": "code",
   "execution_count": 6,
   "id": "42a679a1",
   "metadata": {},
   "outputs": [
    {
     "data": {
      "text/html": [
       "<div>\n",
       "<style scoped>\n",
       "    .dataframe tbody tr th:only-of-type {\n",
       "        vertical-align: middle;\n",
       "    }\n",
       "\n",
       "    .dataframe tbody tr th {\n",
       "        vertical-align: top;\n",
       "    }\n",
       "\n",
       "    .dataframe thead th {\n",
       "        text-align: right;\n",
       "    }\n",
       "</style>\n",
       "<table border=\"1\" class=\"dataframe\">\n",
       "  <thead>\n",
       "    <tr style=\"text-align: right;\">\n",
       "      <th></th>\n",
       "      <th>id</th>\n",
       "      <th>text</th>\n",
       "      <th>time</th>\n",
       "      <th>label</th>\n",
       "      <th>gender</th>\n",
       "      <th>age</th>\n",
       "      <th>Set</th>\n",
       "      <th>concat</th>\n",
       "    </tr>\n",
       "  </thead>\n",
       "  <tbody>\n",
       "    <tr>\n",
       "      <th>0</th>\n",
       "      <td>21</td>\n",
       "      <td>Perfect! Looked and looked for this book. Enga...</td>\n",
       "      <td>67</td>\n",
       "      <td>0</td>\n",
       "      <td>1</td>\n",
       "      <td>67</td>\n",
       "      <td>train</td>\n",
       "      <td>Gender: Man. Age: 67. Time: 67. Perfect! Looke...</td>\n",
       "    </tr>\n",
       "    <tr>\n",
       "      <th>1</th>\n",
       "      <td>22</td>\n",
       "      <td>Good variety Easy to hard. Stolz (1997, 2010) ...</td>\n",
       "      <td>23</td>\n",
       "      <td>0</td>\n",
       "      <td>0</td>\n",
       "      <td>84</td>\n",
       "      <td>train</td>\n",
       "      <td>Gender: Kvinna. Age: 84. Time: 23. Good variet...</td>\n",
       "    </tr>\n",
       "    <tr>\n",
       "      <th>2</th>\n",
       "      <td>24</td>\n",
       "      <td>great way to teach kids classical music throug...</td>\n",
       "      <td>131</td>\n",
       "      <td>0</td>\n",
       "      <td>1</td>\n",
       "      <td>72</td>\n",
       "      <td>train</td>\n",
       "      <td>Gender: Man. Age: 72. Time: 131. great way to ...</td>\n",
       "    </tr>\n",
       "    <tr>\n",
       "      <th>3</th>\n",
       "      <td>28</td>\n",
       "      <td>This is a fun read on a fun topic by an intere...</td>\n",
       "      <td>89</td>\n",
       "      <td>0</td>\n",
       "      <td>0</td>\n",
       "      <td>56</td>\n",
       "      <td>train</td>\n",
       "      <td>Gender: Kvinna. Age: 56. Time: 89. This is a f...</td>\n",
       "    </tr>\n",
       "    <tr>\n",
       "      <th>4</th>\n",
       "      <td>29</td>\n",
       "      <td>one of my mainstay devotionals This book is re...</td>\n",
       "      <td>117</td>\n",
       "      <td>0</td>\n",
       "      <td>0</td>\n",
       "      <td>76</td>\n",
       "      <td>train</td>\n",
       "      <td>Gender: Kvinna. Age: 76. Time: 117. one of my ...</td>\n",
       "    </tr>\n",
       "  </tbody>\n",
       "</table>\n",
       "</div>"
      ],
      "text/plain": [
       "   id                                               text  time  label  gender  \\\n",
       "0  21  Perfect! Looked and looked for this book. Enga...    67      0       1   \n",
       "1  22  Good variety Easy to hard. Stolz (1997, 2010) ...    23      0       0   \n",
       "2  24  great way to teach kids classical music throug...   131      0       1   \n",
       "3  28  This is a fun read on a fun topic by an intere...    89      0       0   \n",
       "4  29  one of my mainstay devotionals This book is re...   117      0       0   \n",
       "\n",
       "   age    Set                                             concat  \n",
       "0   67  train  Gender: Man. Age: 67. Time: 67. Perfect! Looke...  \n",
       "1   84  train  Gender: Kvinna. Age: 84. Time: 23. Good variet...  \n",
       "2   72  train  Gender: Man. Age: 72. Time: 131. great way to ...  \n",
       "3   56  train  Gender: Kvinna. Age: 56. Time: 89. This is a f...  \n",
       "4   76  train  Gender: Kvinna. Age: 76. Time: 117. one of my ...  "
      ]
     },
     "execution_count": 6,
     "metadata": {},
     "output_type": "execute_result"
    }
   ],
   "source": [
    "df.head()"
   ]
  },
  {
   "cell_type": "code",
   "execution_count": 7,
   "id": "68c4d893",
   "metadata": {},
   "outputs": [],
   "source": [
    "train_indices = df[df.Set==\"train\"].index\n",
    "valid_indices = df[df.Set==\"valid\"].index\n",
    "test_indices = df[df.Set==\"test\"].index\n",
    "\n",
    "# Reduce the number of patients that has not have a fall injury to 1500\n",
    "# Since, the training dataset will be more balanced\n",
    "# We remove randomly based on patient index so that only 40% of the dataset is kept\n",
    "# BUT, we keep track of the patients that had had a fall injury, and don't remove those from the dataset\n",
    "tt = df.loc[train_indices]\n",
    "_, train_indices_zeros = train_test_split(tt[tt.label == 0].index, test_size=0.4) \n",
    "train_indices_ones = tt[tt.label == 1].index\n",
    "train_indices = train_indices_ones.append(train_indices_zeros)\n",
    "\n",
    "# then add more fall injuries\n",
    "train_indices = train_indices.append(train_indices_ones)"
   ]
  },
  {
   "cell_type": "code",
   "execution_count": 8,
   "id": "3bf9884e",
   "metadata": {},
   "outputs": [],
   "source": [
    "# Set the features and target label\n",
    "target = 'label'\n",
    "feature = 'text_with_features'\n",
    "\n",
    "x_train = df[feature].values[train_indices]\n",
    "y_train = df[target].values[train_indices]\n",
    "\n",
    "x_valid = df[feature].values[valid_indices]\n",
    "y_valid = df[target].values[valid_indices]\n",
    "\n",
    "x_test = df[feature].values[test_indices]\n",
    "y_test = df[target].values[test_indices]"
   ]
  },
  {
   "cell_type": "code",
   "execution_count": 9,
   "id": "fd9d9eed",
   "metadata": {},
   "outputs": [],
   "source": [
    "char_vectorizer = TfidfVectorizer(ngram_range=(1, 3), use_idf=True, norm='l2',\n",
    "                                  analyzer='char', smooth_idf=True,\n",
    "                                  sublinear_tf=True)\n",
    "word_vectorizer = TfidfVectorizer(ngram_range=(1,2), use_idf=True, norm='l2',\n",
    "                                  analyzer='word', smooth_idf=True,\n",
    "                                  sublinear_tf=True)\n",
    "\n",
    "features = FeatureUnion([\n",
    "    ('words', word_vectorizer),\n",
    "    ('chars', char_vectorizer),\n",
    "])"
   ]
  },
  {
   "cell_type": "code",
   "execution_count": 10,
   "id": "3cf35dc1",
   "metadata": {},
   "outputs": [],
   "source": [
    "# `probability=True` enables plotting confusion matrix for SVM models, similar to random forest classifiers and linear classifiers\n",
    "\n",
    "\n",
    "# clf = RandomForestClassifier(n_estimators=1000, random_state=42)\n",
    "# clf = LinearSVC(C=1.0, random_state=42)\n",
    "clf = SVC(kernel='linear', probability=True, random_state=42)\n",
    "\n",
    "x_train = features.fit_transform(x_train)\n",
    "x_valid = features.transform(x_valid)\n",
    "clf.fit(x_train, y_train)\n",
    "\n",
    "y_pred = clf.predict(x_valid)\n",
    "y_prob = clf.predict_proba(x_valid)"
   ]
  },
  {
   "cell_type": "code",
   "execution_count": 11,
   "id": "178d344f",
   "metadata": {},
   "outputs": [
    {
     "name": "stderr",
     "output_type": "stream",
     "text": [
      "/home/markussagen/.pyenv/versions/medbert/lib/python3.8/site-packages/sklearn/utils/deprecation.py:87: FutureWarning: Function plot_confusion_matrix is deprecated; Function `plot_confusion_matrix` is deprecated in 1.0 and will be removed in 1.2. Use one of the class methods: ConfusionMatrixDisplay.from_predictions or ConfusionMatrixDisplay.from_estimator.\n",
      "  warnings.warn(msg, category=FutureWarning)\n"
     ]
    },
    {
     "name": "stdout",
     "output_type": "stream",
     "text": [
      "Score:\n",
      "acc:  0.9788\n",
      "prec:  0.6667\n",
      "rec:  0.8696\n",
      "f1:   0.7547\n"
     ]
    },
    {
     "data": {
      "image/png": "[encoded data removed]",
      "text/plain": [
       "<Figure size 432x288 with 2 Axes>"
      ]
     },
     "metadata": {
      "needs_background": "light"
     },
     "output_type": "display_data"
    }
   ],
   "source": [
    "# Needed for the confusion matrix\n",
    "class_names = [\"Ej Ramlat\", \"Ramlat\"]\n",
    "disp = metrics.plot_confusion_matrix(clf, x_valid, y_valid, \n",
    "                                     display_labels=class_names, \n",
    "                                     cmap=plt.cm.Blues,normalize='true');\n",
    "\n",
    "print(\"Score:\")\n",
    "print(\"acc: \", round(accuracy_score(y_true=y_valid, y_pred=y_pred), 4))\n",
    "print(\"prec: \", round(precision_score(y_true=y_valid, y_pred=y_pred), 4))\n",
    "print(\"rec: \", round(recall_score(y_true=y_valid, y_pred=y_pred), 4))\n",
    "print(\"f1:  \", round(f1_score(y_true=y_valid, y_pred=y_pred), 4))"
   ]
  },
  {
   "cell_type": "code",
   "execution_count": 12,
   "id": "9a90a30c",
   "metadata": {},
   "outputs": [
    {
     "data": {
      "image/png": "[encoded data removed]",
      "text/plain": [
       "<Figure size 432x288 with 1 Axes>"
      ]
     },
     "metadata": {
      "needs_background": "light"
     },
     "output_type": "display_data"
    }
   ],
   "source": [
    "plot_roc_curve(y_valid, y_prob)"
   ]
  },
  {
   "cell_type": "code",
   "execution_count": 13,
   "id": "5743e151",
   "metadata": {},
   "outputs": [
    {
     "data": {
      "image/png": "[encoded data removed]",
      "text/plain": [
       "<Figure size 432x288 with 1 Axes>"
      ]
     },
     "metadata": {
      "needs_background": "light"
     },
     "output_type": "display_data"
    }
   ],
   "source": [
    "plt.figure()\n",
    "plt.title(\"Distribution per labels\")\n",
    "plt.hist(y_train);"
   ]
  },
  {
   "cell_type": "markdown",
   "id": "118e9a88",
   "metadata": {},
   "source": [
    "### Discuss actual result\n",
    "\n",
    "![Confusion matrix](03_images/confusion_matrix_real_data.png)   \n",
    "![AUC plot](03_images/auc_plot_real_data.png)   \n",
    "![Label distribution](03_images/label_distribution_real_data.png)   \n"
   ]
  },
  {
   "cell_type": "markdown",
   "id": "b82d874d",
   "metadata": {},
   "source": [
    "## Train and evaluate the models\n",
    "We use *K-Fold Cross Validation* for the different models in order to compare their performance on the dataset. "
   ]
  },
  {
   "cell_type": "code",
   "execution_count": 32,
   "id": "56b85799",
   "metadata": {},
   "outputs": [
    {
     "name": "stdout",
     "output_type": "stream",
     "text": [
      "Avg accuracy: 0.9862788192199957\n",
      "[0.98461538 0.98739496 0.99579832 0.98319328 0.98039216]\n"
     ]
    }
   ],
   "source": [
    "indices = (train_indices\n",
    "           .append(test_indices)\n",
    "           .append(valid_indices))\n",
    "\n",
    "X = df[feature].values[indices]\n",
    "y = df[target].values[indices]\n",
    "\n",
    "\n",
    "k = 5\n",
    "k_fold = KFold(n_splits=k, random_state=None)\n",
    "clf = SVC(kernel='linear', probability=True, random_state=42)\n",
    "X = features.fit_transform(X)"
   ]
  },
  {
   "cell_type": "code",
   "execution_count": null,
   "id": "d1ed2d57",
   "metadata": {},
   "outputs": [],
   "source": [
    "result = cross_val_score(clf , X, y, cv = k_fold)\n",
    "print(\"Avg accuracy: {}\".format(result.mean()))\n",
    "print(result)"
   ]
  },
  {
   "cell_type": "code",
   "execution_count": null,
   "id": "3a27b024",
   "metadata": {},
   "outputs": [],
   "source": [
    "train"
   ]
  },
  {
   "cell_type": "code",
   "execution_count": null,
   "id": "34e6d3cf",
   "metadata": {},
   "outputs": [],
   "source": []
  },
  {
   "cell_type": "code",
   "execution_count": null,
   "id": "1438bb36",
   "metadata": {},
   "outputs": [],
   "source": []
  },
  {
   "cell_type": "markdown",
   "id": "f1786ee5",
   "metadata": {},
   "source": [
    "## Best"
   ]
  },
  {
   "cell_type": "code",
   "execution_count": null,
   "id": "120f4484",
   "metadata": {},
   "outputs": [],
   "source": []
  },
  {
   "cell_type": "code",
   "execution_count": null,
   "id": "b1609747",
   "metadata": {},
   "outputs": [],
   "source": []
  },
  {
   "cell_type": "code",
   "execution_count": 14,
   "id": "1b846cd9",
   "metadata": {},
   "outputs": [
    {
     "name": "stdout",
     "output_type": "stream",
     "text": [
      "Int64Index([  94,  182,  230,  238,  283,  285,  314,  365,  499,  522,\n",
      "            ...\n",
      "            6138, 6141, 6144, 6149, 6154, 6159, 6161, 6167, 6173, 6176],\n",
      "           dtype='int64', length=2358)\n",
      "Int64Index([   7,   17,   19,   66,   68,   98,  111,  114,  116,  118,\n",
      "            ...\n",
      "            6153, 6166, 6168, 6182, 6190, 6193, 6194, 6225, 6234, 6244],\n",
      "           dtype='int64', length=613)\n",
      "Int64Index([   8,   13,   20,   27,   38,   52,   70,   72,   89,  103,\n",
      "            ...\n",
      "            6142, 6145, 6146, 6184, 6192, 6207, 6218, 6229, 6233, 6243],\n",
      "           dtype='int64', length=623)\n"
     ]
    }
   ],
   "source": [
    "print(train_indices)\n",
    "print(valid_indices)\n",
    "print(test_indices)"
   ]
  },
  {
   "cell_type": "code",
   "execution_count": 17,
   "id": "c6428a54",
   "metadata": {},
   "outputs": [
    {
     "data": {
      "text/plain": [
       "267"
      ]
     },
     "execution_count": 17,
     "metadata": {},
     "output_type": "execute_result"
    }
   ],
   "source": [
    "sum(df.label)"
   ]
  },
  {
   "cell_type": "code",
   "execution_count": null,
   "id": "1f8f8d01",
   "metadata": {},
   "outputs": [],
   "source": []
  },
  {
   "cell_type": "code",
   "execution_count": null,
   "id": "af98a671",
   "metadata": {},
   "outputs": [],
   "source": []
  },
  {
   "cell_type": "code",
   "execution_count": null,
   "id": "59125c6a",
   "metadata": {},
   "outputs": [],
   "source": [
    "\n"
   ]
  },
  {
   "cell_type": "code",
   "execution_count": null,
   "id": "5466dfcd",
   "metadata": {},
   "outputs": [],
   "source": [
    "# Extreme! \n",
    "# Oversample positive examples"
   ]
  },
  {
   "cell_type": "code",
   "execution_count": null,
   "id": "baa64645",
   "metadata": {},
   "outputs": [],
   "source": [
    "df = pd.read_csv(\"../data/df_to_predict_fall_injuries.csv\")\n",
    "\n",
    "split = [\"train\", \"valid\", \"test\"]\n",
    "split_probability = [.9, .1, 0]\n",
    "\n",
    "if \"Set\" not in df.columns:\n",
    "    # 205, 17, 22 fall injuries in each\n",
    "    df[\"Set\"] = np.random.choice(split, \n",
    "                                 p=split_probability, \n",
    "                                 size=(df.shape[0],))\n",
    "\n",
    "# concatinate all the features\n",
    "df[\"text_with_features\"] = df.apply(lambda x: \\\n",
    "              (\"gender: \" + (\"Man\" if x.gender == 1 else \"Kvinna\") + \". \"  \\\n",
    "               + \"age: \"  + str(x.age)  + \". \" \\\n",
    "               + \"time: \" + str(x.time) + \". \" \\\n",
    "               + x.text), axis=1)\n",
    "    \n",
    "train_indices = df[df.Set==\"train\"].index\n",
    "valid_indices = df[df.Set==\"valid\"].index\n",
    "test_indices = df[df.Set==\"test\"].index\n",
    "\n",
    "# reduce train set from 5000 non-falls to about 1500 non-falls\n",
    "tt = df.loc[train_indices]\n",
    "train_indices_zeros = tt[tt.label == 0].index \n",
    "train_indices_ones = tt[tt.label == 1].index\n",
    "train_indices = train_indices_ones.append(train_indices_zeros)\n",
    "# then add more fall injuries\n",
    "for _ in range(10):\n",
    "    train_indices = train_indices.append(train_indices_ones)\n",
    "\n",
    "# Set the features and target label\n",
    "target = 'label'\n",
    "feature = 'text_with_features'\n",
    "\n",
    "x_train = df[feature].values[train_indices]\n",
    "y_train = df[target].values[train_indices]\n",
    "\n",
    "x_valid = df[feature].values[valid_indices]\n",
    "y_valid = df[target].values[valid_indices]\n",
    "\n",
    "x_test = df[feature].values[test_indices]\n",
    "y_test = df[target].values[test_indices]"
   ]
  },
  {
   "cell_type": "code",
   "execution_count": null,
   "id": "045e15bc",
   "metadata": {},
   "outputs": [],
   "source": [
    "import pandas as pd\n",
    "from sklearn.feature_extraction.text import TfidfVectorizer\n",
    "from sklearn.pipeline import FeatureUnion, make_pipeline\n",
    "from sklearn.svm import LinearSVC, SVC\n",
    "from sklearn.ensemble import RandomForestClassifier\n",
    "from sklearn.metrics import accuracy_score, f1_score, recall_score, precision_score, precision_recall_curve\n",
    "\n",
    "#train = pd.read_csv('../data/rh_train.csv')\n",
    "#valid = pd.read_csv('../data/rh_test.csv')\n",
    "#x_train, y_train = train['text'], train['label']\n",
    "#x_valid, y_valid = valid['text'], valid['label']\n",
    "\n",
    "char_vectorizer = TfidfVectorizer(ngram_range=(1, 3), use_idf=True, norm='l2',\n",
    "                                  analyzer='char', smooth_idf=True,\n",
    "                                  sublinear_tf=True)\n",
    "word_vectorizer = TfidfVectorizer(ngram_range=(1,2), use_idf=True, norm='l2',\n",
    "                                  analyzer='word', smooth_idf=True,\n",
    "                                  sublinear_tf=True)\n",
    "\n",
    "features = FeatureUnion([\n",
    "    ('words', word_vectorizer),\n",
    "    ('chars', char_vectorizer),\n",
    "])\n",
    "\n",
    "# clf = LinearSVC(C=1.0, random_state=42)\n",
    "clf = SVC(kernel='linear', probability=True, random_state=42)\n",
    "# clf = RandomForestClassifier(n_estimators=1000, random_state=42)\n",
    "\n",
    "\n",
    "x_train = features.fit_transform(x_train)\n",
    "x_valid = features.transform(x_valid)\n",
    "clf.fit(x_train, y_train)\n",
    "\n",
    "y_pred = clf.predict(x_valid)\n",
    "y_prob = clf.predict_proba(x_valid)\n",
    "\n",
    "# Needed for the confusion matrix\n",
    "class_names = [\"Ej Ramlat\", \"Ramlat\"]\n",
    "disp = metrics.plot_confusion_matrix(clf, x_valid, y_valid, display_labels=class_names, cmap=plt.cm.Blues,normalize='true');\n",
    "\n",
    "print(\"Score:\")\n",
    "print(\"acc: \", round(accuracy_score(y_true=y_valid, y_pred=y_pred), 4))\n",
    "print(\"prec: \", round(precision_score(y_true=y_valid, y_pred=y_pred), 4))\n",
    "print(\"rec: \", round(recall_score(y_true=y_valid, y_pred=y_pred), 4))\n",
    "print(\"f1:  \", round(f1_score(y_true=y_valid, y_pred=y_pred), 4))"
   ]
  },
  {
   "cell_type": "code",
   "execution_count": null,
   "id": "749ca8dc",
   "metadata": {},
   "outputs": [],
   "source": []
  },
  {
   "cell_type": "code",
   "execution_count": null,
   "id": "1fa38f8c",
   "metadata": {},
   "outputs": [],
   "source": []
  },
  {
   "cell_type": "code",
   "execution_count": null,
   "id": "f074d02b",
   "metadata": {},
   "outputs": [],
   "source": []
  },
  {
   "cell_type": "code",
   "execution_count": null,
   "id": "7bbf3521",
   "metadata": {},
   "outputs": [],
   "source": [
    "# Store the patients the model predicts hav had a fall injurie\n",
    "df_pred = valid.copy(deep=True)\n",
    "df_pred['label'] = y_pred\n",
    "df_pred['label'] = pd.to_numeric(df_pred[\"label\"], downcast='integer')\n",
    "predicted_pos = df_pred[df_pred.label == 1]\n",
    "#predicted_pos.to_csv(\"../data/pred_pos_SVC_2017.csv\")\n",
    "#svc_pos = predicted"
   ]
  },
  {
   "cell_type": "code",
   "execution_count": null,
   "id": "6159114d",
   "metadata": {},
   "outputs": [],
   "source": []
  },
  {
   "cell_type": "code",
   "execution_count": 539,
   "id": "c019e248",
   "metadata": {
    "scrolled": true
   },
   "outputs": [
    {
     "data": {
      "image/png": "[encoded data removed]",
      "text/plain": [
       "<Figure size 432x288 with 1 Axes>"
      ]
     },
     "metadata": {
      "needs_background": "light"
     },
     "output_type": "display_data"
    }
   ],
   "source": [
    "plot_roc_curve(y_valid, y_prob, figure_name=\"SVC_ROC.png\")"
   ]
  },
  {
   "cell_type": "code",
   "execution_count": 540,
   "id": "939c81de",
   "metadata": {},
   "outputs": [
    {
     "data": {
      "image/png": "[encoded data removed]",
      "text/plain": [
       "<Figure size 576x360 with 2 Axes>"
      ]
     },
     "metadata": {
      "needs_background": "light"
     },
     "output_type": "display_data"
    }
   ],
   "source": [
    "plot_confusion_matrix(cm=disp.confusion_matrix, class_names=class_names, figure_name=\"SVC_confusion_matrix.png\", title=\"\")"
   ]
  },
  {
   "cell_type": "code",
   "execution_count": 541,
   "id": "b9a07376",
   "metadata": {},
   "outputs": [],
   "source": [
    "# Random Forest with TFIDF"
   ]
  },
  {
   "cell_type": "code",
   "execution_count": 3,
   "id": "6d0b230b",
   "metadata": {},
   "outputs": [
    {
     "name": "stdout",
     "output_type": "stream",
     "text": [
      "Score:\n",
      "acc:  0.9477\n",
      "prec:  0.9565\n",
      "rec:  0.7213\n",
      "f1:   0.8224\n"
     ]
    },
    {
     "data": {
      "image/png": "[encoded data removed]",
      "text/plain": [
       "<Figure size 432x288 with 2 Axes>"
      ]
     },
     "metadata": {
      "needs_background": "light"
     },
     "output_type": "display_data"
    }
   ],
   "source": [
    "from sklearn.feature_extraction.text import TfidfVectorizer\n",
    "from sklearn.pipeline import FeatureUnion, make_pipeline\n",
    "from sklearn.svm import LinearSVC, SVC\n",
    "from sklearn.ensemble import RandomForestClassifier\n",
    "import pandas as pd\n",
    "from sklearn.metrics import accuracy_score, f1_score, recall_score, precision_score\n",
    "\n",
    "train = pd.read_csv('../data/rh_train.csv')\n",
    "valid = pd.read_csv('../data/rh_test.csv')\n",
    "x_train, y_train = train['text'], train['label']\n",
    "x_valid, y_valid = valid['text'], valid['label']\n",
    "\n",
    "char_vectorizer = TfidfVectorizer(ngram_range=(1, 3), use_idf=True, norm='l2',\n",
    "                                  analyzer='char', smooth_idf=True,\n",
    "                                  sublinear_tf=True)\n",
    "word_vectorizer = TfidfVectorizer(ngram_range=(1,2), use_idf=True, norm='l2',\n",
    "                                  analyzer='word', smooth_idf=True,\n",
    "                                  sublinear_tf=True)\n",
    "\n",
    "features = FeatureUnion([\n",
    "    ('words', word_vectorizer),\n",
    "    # ('chars', char_vectorizer),\n",
    "])\n",
    "\n",
    "# clf = LinearSVC(C=1.0, random_state=42)\n",
    "# clf = SVC(kernel='linear', probability=True, random_state=42)\n",
    "clf = RandomForestClassifier(n_estimators=1000, random_state=42)\n",
    "\n",
    "\n",
    "x_train = features.fit_transform(x_train)\n",
    "x_valid = features.transform(x_valid)\n",
    "clf.fit(x_train, y_train)\n",
    "\n",
    "y_pred = clf.predict(x_valid)\n",
    "y_prob = clf.predict_proba(x_valid)\n",
    "\n",
    "# Needed for the confusion matrix\n",
    "class_names = [\"Ej Ramlat\", \"Ramlat\"]\n",
    "disp = metrics.plot_confusion_matrix(clf, x_valid, y_valid, display_labels=class_names, cmap=plt.cm.Blues,normalize='true');\n",
    "\n",
    "print(\"Score:\")\n",
    "print(\"acc: \", round(accuracy_score(y_true=y_valid, y_pred=y_pred), 4))\n",
    "print(\"prec: \", round(precision_score(y_true=y_valid, y_pred=y_pred), 4))\n",
    "print(\"rec: \", round(recall_score(y_true=y_valid, y_pred=y_pred), 4))\n",
    "print(\"f1:  \", round(f1_score(y_true=y_valid, y_pred=y_pred), 4))\n",
    "\n",
    "# Store the patients the model predicts hav had a fall injurie\n",
    "df_pred = valid.copy(deep=True)\n",
    "df_pred['label'] = y_pred\n",
    "df_pred['label'] = pd.to_numeric(df_pred[\"label\"], downcast='integer')\n",
    "predicted_pos = df_pred[df_pred.label == 1]\n",
    "#predicted_pos.to_csv(\"../data/pred_pos_RF_2017.csv\")\n",
    "#svc_pos = predicted"
   ]
  },
  {
   "cell_type": "code",
   "execution_count": 543,
   "id": "1b7419d3",
   "metadata": {},
   "outputs": [
    {
     "data": {
      "image/png": "[encoded data removed]",
      "text/plain": [
       "<Figure size 432x288 with 1 Axes>"
      ]
     },
     "metadata": {
      "needs_background": "light"
     },
     "output_type": "display_data"
    }
   ],
   "source": [
    "plot_roc_curve(y_valid, y_prob, figure_name=\"RF_ROC.png\")"
   ]
  },
  {
   "cell_type": "code",
   "execution_count": 544,
   "id": "85e4f442",
   "metadata": {},
   "outputs": [
    {
     "data": {
      "image/png": "[encoded data removed]",
      "text/plain": [
       "<Figure size 576x360 with 2 Axes>"
      ]
     },
     "metadata": {
      "needs_background": "light"
     },
     "output_type": "display_data"
    }
   ],
   "source": [
    "plot_confusion_matrix(cm=disp.confusion_matrix, class_names=class_names, figure_name=\"RF_confusion_matrix.png\", title=\"\")"
   ]
  },
  {
   "cell_type": "markdown",
   "id": "1aa4ba2c",
   "metadata": {},
   "source": [
    "# Predict on 2017 data"
   ]
  },
  {
   "cell_type": "markdown",
   "id": "30daa7b3",
   "metadata": {},
   "source": [
    "## TF-IDF with SVC (Best Baseline)"
   ]
  },
  {
   "cell_type": "code",
   "execution_count": 2,
   "id": "0dfba6bf",
   "metadata": {},
   "outputs": [],
   "source": [
    "from sklearn.feature_extraction.text import TfidfVectorizer\n",
    "from sklearn.pipeline import FeatureUnion, make_pipeline\n",
    "from sklearn.svm import LinearSVC\n",
    "from sklearn.ensemble import RandomForestClassifier\n",
    "import pandas as pd\n",
    "from sklearn.metrics import accuracy_score, f1_score, recall_score, precision_score, precision_score\n",
    "\n",
    "\n",
    "train = pd.read_csv('../data/rh_train.csv')\n",
    "valid = pd.read_csv('../data/test_2017.csv')\n",
    "train_x, train_y = train['text'], train['label']\n",
    "valid_x, valid_y = valid['text'], valid['label']\n",
    "\n",
    "char_vectorizer = TfidfVectorizer(ngram_range=(1, 3), use_idf=True, norm='l2',\n",
    "                                  analyzer='char', smooth_idf=True,\n",
    "                                  sublinear_tf=True)\n",
    "word_vectorizer = TfidfVectorizer(ngram_range=(1, 2), use_idf=True, norm='l2',\n",
    "                                  analyzer='word', smooth_idf=True,\n",
    "                                  sublinear_tf=True)\n",
    "\n",
    "features = FeatureUnion([\n",
    "    ('words', word_vectorizer),\n",
    "    ('chars', char_vectorizer),\n",
    "])\n",
    "\n",
    "pipeline = make_pipeline(features, LinearSVC(C=1.0))\n",
    "pipeline.fit(train_x, train_y)\n",
    "\n",
    "predicted = pipeline.predict(valid_x)\n",
    "\n",
    "# Get which ids predicted positive fall injuries and view those\n",
    "df_pred = valid.copy(deep=True)\n",
    "df_pred['label'] = predicted\n",
    "df_pred['label'] = pd.to_numeric(df_pred[\"label\"], downcast='integer')\n",
    "\n",
    "predicted_pos = df_pred[df_pred.label == 1]\n",
    "predicted_pos.to_csv(\"../data/pred_pos_SVC_2017.csv\")\n",
    "svc_pos = predicted"
   ]
  },
  {
   "cell_type": "code",
   "execution_count": 526,
   "id": "01ebb0f7",
   "metadata": {},
   "outputs": [
    {
     "data": {
      "text/plain": [
       "<function sklearn.metrics._ranking.auc(x, y)>"
      ]
     },
     "execution_count": 526,
     "metadata": {},
     "output_type": "execute_result"
    }
   ],
   "source": [
    "metrics.auc"
   ]
  },
  {
   "cell_type": "code",
   "execution_count": 536,
   "id": "fed8ae28",
   "metadata": {
    "scrolled": true
   },
   "outputs": [
    {
     "data": {
      "text/plain": [
       "0.9960102051894474"
      ]
     },
     "execution_count": 536,
     "metadata": {},
     "output_type": "execute_result"
    }
   ],
   "source": [
    "metrics.roc_auc_score(np.array(y_valid), y_prob[:, 1])"
   ]
  },
  {
   "cell_type": "markdown",
   "id": "a2d3ea12",
   "metadata": {},
   "source": [
    "# Predict Fall Injuries for 2017"
   ]
  },
  {
   "cell_type": "code",
   "execution_count": null,
   "id": "fd63ef7c",
   "metadata": {},
   "outputs": [],
   "source": []
  },
  {
   "cell_type": "code",
   "execution_count": 4,
   "id": "5b494dc7",
   "metadata": {},
   "outputs": [],
   "source": [
    "from sklearn.feature_extraction.text import TfidfVectorizer\n",
    "from sklearn.pipeline import FeatureUnion, make_pipeline\n",
    "from sklearn.svm import LinearSVC\n",
    "from sklearn.ensemble import RandomForestClassifier\n",
    "import pandas as pd\n",
    "from sklearn.metrics import accuracy_score, f1_score\n",
    "\n",
    "train = pd.read_csv('../data/rh_train_2016_all.csv')\n",
    "valid = pd.read_csv('../data/test_2017.csv')\n",
    "train_x, train_y = train['text'], train['label']\n",
    "valid_x, valid_y, valid_id = valid['text'], valid['label'], valid['id']\n",
    "\n",
    "word_vectorizer = TfidfVectorizer(ngram_range=(1, 2), use_idf=True, norm='l2',\n",
    "                                  analyzer='word', smooth_idf=True,\n",
    "                                  sublinear_tf=True)\n",
    "\n",
    "features = FeatureUnion([\n",
    "    ('words', word_vectorizer),\n",
    "])\n",
    "\n",
    "clf = make_pipeline(features, RandomForestClassifier(n_estimators=1000))\n",
    "clf.fit(train_x, train_y)\n",
    "\n",
    "predicted = pipeline.predict(valid_x)\n",
    "\n",
    "# Get which ids predicted positive fall injuries and view those\n",
    "df_pred = valid.copy(deep=True)\n",
    "df_pred['label'] = predicted\n",
    "df_pred['label'] = pd.to_numeric(df_pred[\"label\"], downcast='integer')\n",
    "\n",
    "predicted_pos = df_pred[df_pred.label == 1]\n",
    "predicted_pos.to_csv(\"../data/pred_pos_RF_2017.csv\")\n",
    "rf_pos = predicted"
   ]
  },
  {
   "cell_type": "code",
   "execution_count": 87,
   "id": "693aacca",
   "metadata": {},
   "outputs": [],
   "source": [
    "# plot the feature importance of each word\n",
    "assert(len(word_vectorizer.get_feature_names()) == len(pipeline[1][1].feature_importances_))\n",
    "feature_importance = pd.Series(pipeline.steps[1][1].feature_importances_ , index=word_vectorizer.get_feature_names())\n",
    "feature_importance.nlargest(20).plot(kind=\"bar\", figsize=(10,10), title=\"Ordvikt av de 20 vanligaste / fallskade-prediktion\")"
   ]
  },
  {
   "cell_type": "code",
   "execution_count": 114,
   "id": "7b004282",
   "metadata": {},
   "outputs": [
    {
     "name": "stdout",
     "output_type": "stream",
     "text": [
      "905.0\n",
      "562.0\n",
      "\n"
     ]
    }
   ],
   "source": [
    "print(sum(svc_pos))\n",
    "print(sum(rf_pos))\n",
    "print()"
   ]
  },
  {
   "cell_type": "code",
   "execution_count": 89,
   "id": "1e2270b3",
   "metadata": {},
   "outputs": [
    {
     "name": "stdout",
     "output_type": "stream",
     "text": [
      "551.0 / 208614\n"
     ]
    }
   ],
   "source": [
    "print(sum(predicted), \"/\", len(predicted))"
   ]
  },
  {
   "cell_type": "code",
   "execution_count": 124,
   "id": "8ef081eb",
   "metadata": {},
   "outputs": [],
   "source": [
    "# Save to Excel\n",
    "\n",
    "pos_svc = pd.read_csv(\"../data/pred_pos_SVC_2017.csv\")\n",
    "pos_rf = pd.read_csv(\"../data/pred_pos_RF_2017.csv\")\n",
    "pos_bert = pd.read_csv(\"../data/pred_pos_bert_2017.csv\")"
   ]
  },
  {
   "cell_type": "code",
   "execution_count": 125,
   "id": "4dffe096",
   "metadata": {},
   "outputs": [
    {
     "data": {
      "text/html": [
       "<div>\n",
       "<style scoped>\n",
       "    .dataframe tbody tr th:only-of-type {\n",
       "        vertical-align: middle;\n",
       "    }\n",
       "\n",
       "    .dataframe tbody tr th {\n",
       "        vertical-align: top;\n",
       "    }\n",
       "\n",
       "    .dataframe thead th {\n",
       "        text-align: right;\n",
       "    }\n",
       "</style>\n",
       "<table border=\"1\" class=\"dataframe\">\n",
       "  <thead>\n",
       "    <tr style=\"text-align: right;\">\n",
       "      <th></th>\n",
       "      <th>Unnamed: 0</th>\n",
       "      <th>Unnamed: 0.1</th>\n",
       "      <th>Patient_ID</th>\n",
       "      <th>year</th>\n",
       "      <th>id</th>\n",
       "      <th>text</th>\n",
       "      <th>label</th>\n",
       "    </tr>\n",
       "  </thead>\n",
       "  <tbody>\n",
       "    <tr>\n",
       "      <th>0</th>\n",
       "      <td>38</td>\n",
       "      <td>38</td>\n",
       "      <td>100</td>\n",
       "      <td>2017</td>\n",
       "      <td>410</td>\n",
       "      <td>Kissat på bäcken ua.</td>\n",
       "      <td>1</td>\n",
       "    </tr>\n",
       "    <tr>\n",
       "      <th>1</th>\n",
       "      <td>95</td>\n",
       "      <td>95</td>\n",
       "      <td>100</td>\n",
       "      <td>2017</td>\n",
       "      <td>474</td>\n",
       "      <td>Ortopedjouren är hos patienten och punkterar o...</td>\n",
       "      <td>1</td>\n",
       "    </tr>\n",
       "    <tr>\n",
       "      <th>2</th>\n",
       "      <td>118</td>\n",
       "      <td>118</td>\n",
       "      <td>102</td>\n",
       "      <td>2017</td>\n",
       "      <td>540</td>\n",
       "      <td>Enligt SKL´s patientsäkerhet-fall föreligger r...</td>\n",
       "      <td>1</td>\n",
       "    </tr>\n",
       "    <tr>\n",
       "      <th>3</th>\n",
       "      <td>294</td>\n",
       "      <td>294</td>\n",
       "      <td>461</td>\n",
       "      <td>2017</td>\n",
       "      <td>2266</td>\n",
       "      <td>Kissat på toaletten.</td>\n",
       "      <td>1</td>\n",
       "    </tr>\n",
       "    <tr>\n",
       "      <th>4</th>\n",
       "      <td>509</td>\n",
       "      <td>509</td>\n",
       "      <td>614</td>\n",
       "      <td>2017</td>\n",
       "      <td>3785</td>\n",
       "      <td>Ringer på klockan för hjälp men går upp själv ...</td>\n",
       "      <td>1</td>\n",
       "    </tr>\n",
       "    <tr>\n",
       "      <th>...</th>\n",
       "      <td>...</td>\n",
       "      <td>...</td>\n",
       "      <td>...</td>\n",
       "      <td>...</td>\n",
       "      <td>...</td>\n",
       "      <td>...</td>\n",
       "      <td>...</td>\n",
       "    </tr>\n",
       "    <tr>\n",
       "      <th>2365</th>\n",
       "      <td>208336</td>\n",
       "      <td>208336</td>\n",
       "      <td>853375</td>\n",
       "      <td>2017</td>\n",
       "      <td>2336873</td>\n",
       "      <td>Har för tre måndaer sedan spelat innebandy och...</td>\n",
       "      <td>1</td>\n",
       "    </tr>\n",
       "    <tr>\n",
       "      <th>2366</th>\n",
       "      <td>208355</td>\n",
       "      <td>208355</td>\n",
       "      <td>853643</td>\n",
       "      <td>2017</td>\n",
       "      <td>2336892</td>\n",
       "      <td>Sovit sittande på golvet, lutande mot väggen.</td>\n",
       "      <td>1</td>\n",
       "    </tr>\n",
       "    <tr>\n",
       "      <th>2367</th>\n",
       "      <td>208394</td>\n",
       "      <td>208394</td>\n",
       "      <td>853643</td>\n",
       "      <td>2017</td>\n",
       "      <td>2336968</td>\n",
       "      <td>Plötslig huvudvärk hemma. Anhöriga ringer ambu...</td>\n",
       "      <td>1</td>\n",
       "    </tr>\n",
       "    <tr>\n",
       "      <th>2368</th>\n",
       "      <td>208456</td>\n",
       "      <td>208456</td>\n",
       "      <td>854818</td>\n",
       "      <td>2017</td>\n",
       "      <td>2337533</td>\n",
       "      <td>Pat fick ett skarapsår på ryggen efter ett toa...</td>\n",
       "      <td>1</td>\n",
       "    </tr>\n",
       "    <tr>\n",
       "      <th>2369</th>\n",
       "      <td>208591</td>\n",
       "      <td>208591</td>\n",
       "      <td>857171</td>\n",
       "      <td>2017</td>\n",
       "      <td>2338089</td>\n",
       "      <td>Går med en person till toalett. Har falltenden...</td>\n",
       "      <td>1</td>\n",
       "    </tr>\n",
       "  </tbody>\n",
       "</table>\n",
       "<p>2370 rows × 7 columns</p>\n",
       "</div>"
      ],
      "text/plain": [
       "      Unnamed: 0  Unnamed: 0.1  Patient_ID  year       id  \\\n",
       "0             38            38         100  2017      410   \n",
       "1             95            95         100  2017      474   \n",
       "2            118           118         102  2017      540   \n",
       "3            294           294         461  2017     2266   \n",
       "4            509           509         614  2017     3785   \n",
       "...          ...           ...         ...   ...      ...   \n",
       "2365      208336        208336      853375  2017  2336873   \n",
       "2366      208355        208355      853643  2017  2336892   \n",
       "2367      208394        208394      853643  2017  2336968   \n",
       "2368      208456        208456      854818  2017  2337533   \n",
       "2369      208591        208591      857171  2017  2338089   \n",
       "\n",
       "                                                   text  label  \n",
       "0                                  Kissat på bäcken ua.      1  \n",
       "1     Ortopedjouren är hos patienten och punkterar o...      1  \n",
       "2     Enligt SKL´s patientsäkerhet-fall föreligger r...      1  \n",
       "3                                  Kissat på toaletten.      1  \n",
       "4     Ringer på klockan för hjälp men går upp själv ...      1  \n",
       "...                                                 ...    ...  \n",
       "2365  Har för tre måndaer sedan spelat innebandy och...      1  \n",
       "2366      Sovit sittande på golvet, lutande mot väggen.      1  \n",
       "2367  Plötslig huvudvärk hemma. Anhöriga ringer ambu...      1  \n",
       "2368  Pat fick ett skarapsår på ryggen efter ett toa...      1  \n",
       "2369  Går med en person till toalett. Har falltenden...      1  \n",
       "\n",
       "[2370 rows x 7 columns]"
      ]
     },
     "execution_count": 125,
     "metadata": {},
     "output_type": "execute_result"
    }
   ],
   "source": [
    "pos_bert"
   ]
  },
  {
   "cell_type": "code",
   "execution_count": 122,
   "id": "ed97d7db",
   "metadata": {},
   "outputs": [
    {
     "data": {
      "text/html": [
       "<div>\n",
       "<style scoped>\n",
       "    .dataframe tbody tr th:only-of-type {\n",
       "        vertical-align: middle;\n",
       "    }\n",
       "\n",
       "    .dataframe tbody tr th {\n",
       "        vertical-align: top;\n",
       "    }\n",
       "\n",
       "    .dataframe thead th {\n",
       "        text-align: right;\n",
       "    }\n",
       "</style>\n",
       "<table border=\"1\" class=\"dataframe\">\n",
       "  <thead>\n",
       "    <tr style=\"text-align: right;\">\n",
       "      <th></th>\n",
       "      <th>Unnamed: 0</th>\n",
       "      <th>omv_pk</th>\n",
       "      <th>Patient_ID</th>\n",
       "      <th>Inpatient_Admissiondatetime</th>\n",
       "      <th>Inpatient_Departure</th>\n",
       "      <th>omvantDT</th>\n",
       "      <th>sokkod</th>\n",
       "      <th>omvtext_concat</th>\n",
       "      <th>Class_2016</th>\n",
       "    </tr>\n",
       "  </thead>\n",
       "  <tbody>\n",
       "    <tr>\n",
       "      <th>0</th>\n",
       "      <td>0</td>\n",
       "      <td>114730_2_S_1_1_Hjkä</td>\n",
       "      <td>5</td>\n",
       "      <td>2010-06-13 08:00:00.000</td>\n",
       "      <td>2010-06-16 17:00:00.000</td>\n",
       "      <td>2010-06-13 13:00:00</td>\n",
       "      <td>Hjkä</td>\n",
       "      <td>Telemetri har efter digitalisering nr 2 gått i...</td>\n",
       "      <td>NaN</td>\n",
       "    </tr>\n",
       "    <tr>\n",
       "      <th>1</th>\n",
       "      <td>1</td>\n",
       "      <td>114730_1_S_1_1_Välb</td>\n",
       "      <td>5</td>\n",
       "      <td>2010-06-13 08:00:00.000</td>\n",
       "      <td>2010-06-16 17:00:00.000</td>\n",
       "      <td>2010-06-14 15:00:00</td>\n",
       "      <td>Välb</td>\n",
       "      <td>Ej kräkts eller mått illa idag, ingen smärta. ...</td>\n",
       "      <td>NaN</td>\n",
       "    </tr>\n",
       "    <tr>\n",
       "      <th>2</th>\n",
       "      <td>2</td>\n",
       "      <td>114730_1_S_1_1_Rond</td>\n",
       "      <td>5</td>\n",
       "      <td>2010-06-13 08:00:00.000</td>\n",
       "      <td>2010-06-16 17:00:00.000</td>\n",
       "      <td>2010-06-15 13:00:00</td>\n",
       "      <td>Rond</td>\n",
       "      <td>Patienten skall på en CT - buk klockan 14.30 s...</td>\n",
       "      <td>NaN</td>\n",
       "    </tr>\n",
       "    <tr>\n",
       "      <th>3</th>\n",
       "      <td>3</td>\n",
       "      <td>456110_1_S_3_1_Välb</td>\n",
       "      <td>7</td>\n",
       "      <td>2012-03-27 12:00:00.000</td>\n",
       "      <td>2012-03-28 15:00:00.000</td>\n",
       "      <td>2012-03-27 20:00:00</td>\n",
       "      <td>Välb</td>\n",
       "      <td>Patienten lite irriterad vid ankomsten till av...</td>\n",
       "      <td>NaN</td>\n",
       "    </tr>\n",
       "    <tr>\n",
       "      <th>4</th>\n",
       "      <td>4</td>\n",
       "      <td>456110_1_S_3_1_Smär</td>\n",
       "      <td>7</td>\n",
       "      <td>2012-03-27 12:00:00.000</td>\n",
       "      <td>2012-03-28 15:00:00.000</td>\n",
       "      <td>2012-03-28 06:00:00</td>\n",
       "      <td>Smär</td>\n",
       "      <td>Besväras av sin värk i ryggen samt arm, får sm...</td>\n",
       "      <td>NaN</td>\n",
       "    </tr>\n",
       "    <tr>\n",
       "      <th>...</th>\n",
       "      <td>...</td>\n",
       "      <td>...</td>\n",
       "      <td>...</td>\n",
       "      <td>...</td>\n",
       "      <td>...</td>\n",
       "      <td>...</td>\n",
       "      <td>...</td>\n",
       "      <td>...</td>\n",
       "      <td>...</td>\n",
       "    </tr>\n",
       "    <tr>\n",
       "      <th>2351343</th>\n",
       "      <td>2351343</td>\n",
       "      <td>809104_1_S_7_1_Hud</td>\n",
       "      <td>952471</td>\n",
       "      <td>2020-12-13 10:00:00.000</td>\n",
       "      <td>2020-12-13 23:00:00.000</td>\n",
       "      <td>2020-12-13 13:00:00</td>\n",
       "      <td>Hud</td>\n",
       "      <td>Små skrubbsår över hela kroppen.</td>\n",
       "      <td>NaN</td>\n",
       "    </tr>\n",
       "    <tr>\n",
       "      <th>2351344</th>\n",
       "      <td>2351344</td>\n",
       "      <td>809104_2_S_7_1_Komm</td>\n",
       "      <td>952471</td>\n",
       "      <td>2020-12-13 10:00:00.000</td>\n",
       "      <td>2020-12-13 23:00:00.000</td>\n",
       "      <td>2020-12-13 20:00:00</td>\n",
       "      <td>Komm</td>\n",
       "      <td>RLS 4 -&gt; 2. Minns ej vad som hänt. \\n  Lugn i ...</td>\n",
       "      <td>NaN</td>\n",
       "    </tr>\n",
       "    <tr>\n",
       "      <th>2351345</th>\n",
       "      <td>2351345</td>\n",
       "      <td>809104_2_S_7_1_Sast</td>\n",
       "      <td>952471</td>\n",
       "      <td>2020-12-13 10:00:00.000</td>\n",
       "      <td>2020-12-13 23:00:00.000</td>\n",
       "      <td>2020-12-13 23:00:00</td>\n",
       "      <td>Sast</td>\n",
       "      <td>Pat är färdigvårdad på medicin/IVA och är välk...</td>\n",
       "      <td>NaN</td>\n",
       "    </tr>\n",
       "    <tr>\n",
       "      <th>2351346</th>\n",
       "      <td>2351346</td>\n",
       "      <td>809104_2_S_7_1_Nut</td>\n",
       "      <td>952471</td>\n",
       "      <td>2020-12-13 10:00:00.000</td>\n",
       "      <td>2020-12-13 23:00:00.000</td>\n",
       "      <td>2020-12-13 20:00:00</td>\n",
       "      <td>Nut</td>\n",
       "      <td>Iv vätska. Elektrolyter ok. \\n  Mkt hungrig.</td>\n",
       "      <td>NaN</td>\n",
       "    </tr>\n",
       "    <tr>\n",
       "      <th>2351347</th>\n",
       "      <td>2351347</td>\n",
       "      <td>809104_1_S_7_1_Psfu</td>\n",
       "      <td>952471</td>\n",
       "      <td>2020-12-13 10:00:00.000</td>\n",
       "      <td>2020-12-13 23:00:00.000</td>\n",
       "      <td>2020-12-13 20:00:00</td>\n",
       "      <td>Psfu</td>\n",
       "      <td>Uppgiven över sin situation. Önskar kontakt me...</td>\n",
       "      <td>NaN</td>\n",
       "    </tr>\n",
       "  </tbody>\n",
       "</table>\n",
       "<p>2351348 rows × 9 columns</p>\n",
       "</div>"
      ],
      "text/plain": [
       "         Unnamed: 0               omv_pk  Patient_ID  \\\n",
       "0                 0  114730_2_S_1_1_Hjkä           5   \n",
       "1                 1  114730_1_S_1_1_Välb           5   \n",
       "2                 2  114730_1_S_1_1_Rond           5   \n",
       "3                 3  456110_1_S_3_1_Välb           7   \n",
       "4                 4  456110_1_S_3_1_Smär           7   \n",
       "...             ...                  ...         ...   \n",
       "2351343     2351343   809104_1_S_7_1_Hud      952471   \n",
       "2351344     2351344  809104_2_S_7_1_Komm      952471   \n",
       "2351345     2351345  809104_2_S_7_1_Sast      952471   \n",
       "2351346     2351346   809104_2_S_7_1_Nut      952471   \n",
       "2351347     2351347  809104_1_S_7_1_Psfu      952471   \n",
       "\n",
       "        Inpatient_Admissiondatetime      Inpatient_Departure  \\\n",
       "0           2010-06-13 08:00:00.000  2010-06-16 17:00:00.000   \n",
       "1           2010-06-13 08:00:00.000  2010-06-16 17:00:00.000   \n",
       "2           2010-06-13 08:00:00.000  2010-06-16 17:00:00.000   \n",
       "3           2012-03-27 12:00:00.000  2012-03-28 15:00:00.000   \n",
       "4           2012-03-27 12:00:00.000  2012-03-28 15:00:00.000   \n",
       "...                             ...                      ...   \n",
       "2351343     2020-12-13 10:00:00.000  2020-12-13 23:00:00.000   \n",
       "2351344     2020-12-13 10:00:00.000  2020-12-13 23:00:00.000   \n",
       "2351345     2020-12-13 10:00:00.000  2020-12-13 23:00:00.000   \n",
       "2351346     2020-12-13 10:00:00.000  2020-12-13 23:00:00.000   \n",
       "2351347     2020-12-13 10:00:00.000  2020-12-13 23:00:00.000   \n",
       "\n",
       "                    omvantDT sokkod  \\\n",
       "0        2010-06-13 13:00:00   Hjkä   \n",
       "1        2010-06-14 15:00:00   Välb   \n",
       "2        2010-06-15 13:00:00   Rond   \n",
       "3        2012-03-27 20:00:00   Välb   \n",
       "4        2012-03-28 06:00:00   Smär   \n",
       "...                      ...    ...   \n",
       "2351343  2020-12-13 13:00:00    Hud   \n",
       "2351344  2020-12-13 20:00:00   Komm   \n",
       "2351345  2020-12-13 23:00:00   Sast   \n",
       "2351346  2020-12-13 20:00:00    Nut   \n",
       "2351347  2020-12-13 20:00:00   Psfu   \n",
       "\n",
       "                                            omvtext_concat  Class_2016  \n",
       "0        Telemetri har efter digitalisering nr 2 gått i...         NaN  \n",
       "1        Ej kräkts eller mått illa idag, ingen smärta. ...         NaN  \n",
       "2        Patienten skall på en CT - buk klockan 14.30 s...         NaN  \n",
       "3        Patienten lite irriterad vid ankomsten till av...         NaN  \n",
       "4        Besväras av sin värk i ryggen samt arm, får sm...         NaN  \n",
       "...                                                    ...         ...  \n",
       "2351343                   Små skrubbsår över hela kroppen.         NaN  \n",
       "2351344  RLS 4 -> 2. Minns ej vad som hänt. \\n  Lugn i ...         NaN  \n",
       "2351345  Pat är färdigvårdad på medicin/IVA och är välk...         NaN  \n",
       "2351346       Iv vätska. Elektrolyter ok. \\n  Mkt hungrig.         NaN  \n",
       "2351347  Uppgiven över sin situation. Önskar kontakt me...         NaN  \n",
       "\n",
       "[2351348 rows x 9 columns]"
      ]
     },
     "execution_count": 122,
     "metadata": {},
     "output_type": "execute_result"
    }
   ],
   "source": [
    "df = pd.read_csv(\"../data/rh_data.csv\")\n",
    "df"
   ]
  },
  {
   "cell_type": "code",
   "execution_count": 158,
   "id": "9b2c8157",
   "metadata": {},
   "outputs": [],
   "source": [
    "# From predicted model, get the correct ID/category RH wants\n",
    "def get_rh_id_from_predictions(df, df_predicted_fall_injuries):\n",
    "    \"\"\"Get the correct ID (omv_pk) from the dataset from the predicted fall injuries models.\"\"\"\n",
    "    d = df.iloc[df_predicted_fall_injuries['id']]\n",
    "    return d[['omv_pk']].copy(deep=True)\n",
    "\n",
    "\n",
    "id_svc = get_rh_id_from_predictions(df, pos_svc)\n",
    "id_rf = get_rh_id_from_predictions(df, pos_rf)\n",
    "id_bert = get_rh_id_from_predictions(df, pos_bert)"
   ]
  },
  {
   "cell_type": "code",
   "execution_count": 185,
   "id": "8d5aaa13",
   "metadata": {},
   "outputs": [],
   "source": [
    "# Save to excel\n",
    "with pd.ExcelWriter('rh_pred_fall_injuries_2017.xls') as writer:\n",
    "    id_svc.to_excel(writer, index=False, sheet_name=\"best_baseline\")\n",
    "    id_rf.to_excel(writer, index=False, sheet_name=\"explainable_baselin\")\n",
    "    id_bert.to_excel(writer, index=False, sheet_name=\"swedish_bert\")"
   ]
  },
  {
   "cell_type": "code",
   "execution_count": 188,
   "id": "46ca7a21",
   "metadata": {},
   "outputs": [
    {
     "data": {
      "text/html": [
       "<div>\n",
       "<style scoped>\n",
       "    .dataframe tbody tr th:only-of-type {\n",
       "        vertical-align: middle;\n",
       "    }\n",
       "\n",
       "    .dataframe tbody tr th {\n",
       "        vertical-align: top;\n",
       "    }\n",
       "\n",
       "    .dataframe thead th {\n",
       "        text-align: right;\n",
       "    }\n",
       "</style>\n",
       "<table border=\"1\" class=\"dataframe\">\n",
       "  <thead>\n",
       "    <tr style=\"text-align: right;\">\n",
       "      <th></th>\n",
       "      <th>omv_pk</th>\n",
       "    </tr>\n",
       "  </thead>\n",
       "  <tbody>\n",
       "    <tr>\n",
       "      <th>0</th>\n",
       "      <td>64845_1_S_7_1_Urin</td>\n",
       "    </tr>\n",
       "    <tr>\n",
       "      <th>1</th>\n",
       "      <td>64845_5_S_7_1_Förf</td>\n",
       "    </tr>\n",
       "    <tr>\n",
       "      <th>2</th>\n",
       "      <td>13721_2_d_5_2_</td>\n",
       "    </tr>\n",
       "    <tr>\n",
       "      <th>3</th>\n",
       "      <td>123741_4_S_21_1_Urin</td>\n",
       "    </tr>\n",
       "    <tr>\n",
       "      <th>4</th>\n",
       "      <td>75839_1_S_6_1_Förf</td>\n",
       "    </tr>\n",
       "    <tr>\n",
       "      <th>...</th>\n",
       "      <td>...</td>\n",
       "    </tr>\n",
       "    <tr>\n",
       "      <th>2365</th>\n",
       "      <td>720034_2_S_1_1_Sast</td>\n",
       "    </tr>\n",
       "    <tr>\n",
       "      <th>2366</th>\n",
       "      <td>719537_2_S_3_1_Sömn</td>\n",
       "    </tr>\n",
       "    <tr>\n",
       "      <th>2367</th>\n",
       "      <td>719537_1_S_1_1_Ivin</td>\n",
       "    </tr>\n",
       "    <tr>\n",
       "      <th>2368</th>\n",
       "      <td>721274_6_S_1_1_Sast</td>\n",
       "    </tr>\n",
       "    <tr>\n",
       "      <th>2369</th>\n",
       "      <td>723270_1_S_1_1_Förf</td>\n",
       "    </tr>\n",
       "  </tbody>\n",
       "</table>\n",
       "<p>2370 rows × 1 columns</p>\n",
       "</div>"
      ],
      "text/plain": [
       "                    omv_pk\n",
       "0       64845_1_S_7_1_Urin\n",
       "1       64845_5_S_7_1_Förf\n",
       "2           13721_2_d_5_2_\n",
       "3     123741_4_S_21_1_Urin\n",
       "4       75839_1_S_6_1_Förf\n",
       "...                    ...\n",
       "2365   720034_2_S_1_1_Sast\n",
       "2366   719537_2_S_3_1_Sömn\n",
       "2367   719537_1_S_1_1_Ivin\n",
       "2368   721274_6_S_1_1_Sast\n",
       "2369   723270_1_S_1_1_Förf\n",
       "\n",
       "[2370 rows x 1 columns]"
      ]
     },
     "execution_count": 188,
     "metadata": {},
     "output_type": "execute_result"
    }
   ],
   "source": [
    "# To read a Excel document again\n",
    "xls = pd.ExcelFile('rh_pred_fall_injuries_2017.xls')\n",
    "#pd.read_excel(xls, \"best_baseline_tfidf_SVC\")\n",
    "#pd.read_excel(xls, \"explainable_baseline_tfidf_randomforest\")\n",
    "pd.read_excel(xls, \"swedish_bert\")"
   ]
  },
  {
   "cell_type": "code",
   "execution_count": 189,
   "id": "d93912dc",
   "metadata": {},
   "outputs": [
    {
     "name": "stdout",
     "output_type": "stream",
     "text": [
      "Requirement already satisfied: xlwt in c:\\users\\mse002\\.conda\\envs\\mental\\lib\\site-packages (1.3.0)\n",
      "Requirement already satisfied: xlrd in c:\\users\\mse002\\.conda\\envs\\mental\\lib\\site-packages (2.0.1)\n",
      "Requirement already satisfied: openpyxl in c:\\users\\mse002\\.conda\\envs\\mental\\lib\\site-packages (3.0.7)\n",
      "Requirement already satisfied: et-xmlfile in c:\\users\\mse002\\.conda\\envs\\mental\\lib\\site-packages (from openpyxl) (1.1.0)\n"
     ]
    },
    {
     "name": "stderr",
     "output_type": "stream",
     "text": [
      "WARNING: Ignoring invalid distribution -orch (c:\\users\\mse002\\.conda\\envs\\mental\\lib\\site-packages)\n",
      "WARNING: Ignoring invalid distribution -orch (c:\\users\\mse002\\.conda\\envs\\mental\\lib\\site-packages)\n",
      "WARNING: Ignoring invalid distribution -orch (c:\\users\\mse002\\.conda\\envs\\mental\\lib\\site-packages)\n",
      "WARNING: Ignoring invalid distribution -orch (c:\\users\\mse002\\.conda\\envs\\mental\\lib\\site-packages)\n",
      "WARNING: You are using pip version 21.1.2; however, version 21.2.4 is available.\n",
      "You should consider upgrading via the 'C:\\Users\\mse002\\.conda\\envs\\mental\\python.exe -m pip install --upgrade pip' command.\n"
     ]
    }
   ],
   "source": [
    "!pip install xlwt xlrd openpyxl"
   ]
  },
  {
   "cell_type": "code",
   "execution_count": 10,
   "id": "1203eb2a",
   "metadata": {},
   "outputs": [
    {
     "ename": "KeyboardInterrupt",
     "evalue": "",
     "output_type": "error",
     "traceback": [
      "\u001b[1;31m---------------------------------------------------------------------------\u001b[0m",
      "\u001b[1;31mKeyboardInterrupt\u001b[0m                         Traceback (most recent call last)",
      "\u001b[1;32m<ipython-input-10-d1e3dbf19828>\u001b[0m in \u001b[0;36m<module>\u001b[1;34m\u001b[0m\n\u001b[0;32m      1\u001b[0m \u001b[1;32mfrom\u001b[0m \u001b[0msklearn\u001b[0m\u001b[1;33m.\u001b[0m\u001b[0minspection\u001b[0m \u001b[1;32mimport\u001b[0m \u001b[0mpermutation_importance\u001b[0m\u001b[1;33m\u001b[0m\u001b[1;33m\u001b[0m\u001b[0m\n\u001b[0;32m      2\u001b[0m \u001b[1;33m\u001b[0m\u001b[0m\n\u001b[1;32m----> 3\u001b[1;33m permuted_feature_imp = permutation_importance(clf, x_valid.toarray(), y_valid, \n\u001b[0m\u001b[0;32m      4\u001b[0m                                               random_state=42 , n_repeats=1,)\n",
      "\u001b[1;32m~\\.conda\\envs\\mental\\lib\\site-packages\\sklearn\\utils\\validation.py\u001b[0m in \u001b[0;36minner_f\u001b[1;34m(*args, **kwargs)\u001b[0m\n\u001b[0;32m     61\u001b[0m             \u001b[0mextra_args\u001b[0m \u001b[1;33m=\u001b[0m \u001b[0mlen\u001b[0m\u001b[1;33m(\u001b[0m\u001b[0margs\u001b[0m\u001b[1;33m)\u001b[0m \u001b[1;33m-\u001b[0m \u001b[0mlen\u001b[0m\u001b[1;33m(\u001b[0m\u001b[0mall_args\u001b[0m\u001b[1;33m)\u001b[0m\u001b[1;33m\u001b[0m\u001b[1;33m\u001b[0m\u001b[0m\n\u001b[0;32m     62\u001b[0m             \u001b[1;32mif\u001b[0m \u001b[0mextra_args\u001b[0m \u001b[1;33m<=\u001b[0m \u001b[1;36m0\u001b[0m\u001b[1;33m:\u001b[0m\u001b[1;33m\u001b[0m\u001b[1;33m\u001b[0m\u001b[0m\n\u001b[1;32m---> 63\u001b[1;33m                 \u001b[1;32mreturn\u001b[0m \u001b[0mf\u001b[0m\u001b[1;33m(\u001b[0m\u001b[1;33m*\u001b[0m\u001b[0margs\u001b[0m\u001b[1;33m,\u001b[0m \u001b[1;33m**\u001b[0m\u001b[0mkwargs\u001b[0m\u001b[1;33m)\u001b[0m\u001b[1;33m\u001b[0m\u001b[1;33m\u001b[0m\u001b[0m\n\u001b[0m\u001b[0;32m     64\u001b[0m \u001b[1;33m\u001b[0m\u001b[0m\n\u001b[0;32m     65\u001b[0m             \u001b[1;31m# extra_args > 0\u001b[0m\u001b[1;33m\u001b[0m\u001b[1;33m\u001b[0m\u001b[1;33m\u001b[0m\u001b[0m\n",
      "\u001b[1;32m~\\.conda\\envs\\mental\\lib\\site-packages\\sklearn\\inspection\\_permutation_importance.py\u001b[0m in \u001b[0;36mpermutation_importance\u001b[1;34m(estimator, X, y, scoring, n_repeats, n_jobs, random_state, sample_weight)\u001b[0m\n\u001b[0;32m    147\u001b[0m     \u001b[0mbaseline_score\u001b[0m \u001b[1;33m=\u001b[0m \u001b[0m_weights_scorer\u001b[0m\u001b[1;33m(\u001b[0m\u001b[0mscorer\u001b[0m\u001b[1;33m,\u001b[0m \u001b[0mestimator\u001b[0m\u001b[1;33m,\u001b[0m \u001b[0mX\u001b[0m\u001b[1;33m,\u001b[0m \u001b[0my\u001b[0m\u001b[1;33m,\u001b[0m \u001b[0msample_weight\u001b[0m\u001b[1;33m)\u001b[0m\u001b[1;33m\u001b[0m\u001b[1;33m\u001b[0m\u001b[0m\n\u001b[0;32m    148\u001b[0m \u001b[1;33m\u001b[0m\u001b[0m\n\u001b[1;32m--> 149\u001b[1;33m     scores = Parallel(n_jobs=n_jobs)(delayed(_calculate_permutation_scores)(\n\u001b[0m\u001b[0;32m    150\u001b[0m         \u001b[0mestimator\u001b[0m\u001b[1;33m,\u001b[0m \u001b[0mX\u001b[0m\u001b[1;33m,\u001b[0m \u001b[0my\u001b[0m\u001b[1;33m,\u001b[0m \u001b[0msample_weight\u001b[0m\u001b[1;33m,\u001b[0m \u001b[0mcol_idx\u001b[0m\u001b[1;33m,\u001b[0m \u001b[0mrandom_seed\u001b[0m\u001b[1;33m,\u001b[0m \u001b[0mn_repeats\u001b[0m\u001b[1;33m,\u001b[0m \u001b[0mscorer\u001b[0m\u001b[1;33m\u001b[0m\u001b[1;33m\u001b[0m\u001b[0m\n\u001b[0;32m    151\u001b[0m     ) for col_idx in range(X.shape[1]))\n",
      "\u001b[1;32m~\\.conda\\envs\\mental\\lib\\site-packages\\joblib\\parallel.py\u001b[0m in \u001b[0;36m__call__\u001b[1;34m(self, iterable)\u001b[0m\n\u001b[0;32m   1042\u001b[0m                 \u001b[0mself\u001b[0m\u001b[1;33m.\u001b[0m\u001b[0m_iterating\u001b[0m \u001b[1;33m=\u001b[0m \u001b[0mself\u001b[0m\u001b[1;33m.\u001b[0m\u001b[0m_original_iterator\u001b[0m \u001b[1;32mis\u001b[0m \u001b[1;32mnot\u001b[0m \u001b[1;32mNone\u001b[0m\u001b[1;33m\u001b[0m\u001b[1;33m\u001b[0m\u001b[0m\n\u001b[0;32m   1043\u001b[0m \u001b[1;33m\u001b[0m\u001b[0m\n\u001b[1;32m-> 1044\u001b[1;33m             \u001b[1;32mwhile\u001b[0m \u001b[0mself\u001b[0m\u001b[1;33m.\u001b[0m\u001b[0mdispatch_one_batch\u001b[0m\u001b[1;33m(\u001b[0m\u001b[0miterator\u001b[0m\u001b[1;33m)\u001b[0m\u001b[1;33m:\u001b[0m\u001b[1;33m\u001b[0m\u001b[1;33m\u001b[0m\u001b[0m\n\u001b[0m\u001b[0;32m   1045\u001b[0m                 \u001b[1;32mpass\u001b[0m\u001b[1;33m\u001b[0m\u001b[1;33m\u001b[0m\u001b[0m\n\u001b[0;32m   1046\u001b[0m \u001b[1;33m\u001b[0m\u001b[0m\n",
      "\u001b[1;32m~\\.conda\\envs\\mental\\lib\\site-packages\\joblib\\parallel.py\u001b[0m in \u001b[0;36mdispatch_one_batch\u001b[1;34m(self, iterator)\u001b[0m\n\u001b[0;32m    857\u001b[0m                 \u001b[1;32mreturn\u001b[0m \u001b[1;32mFalse\u001b[0m\u001b[1;33m\u001b[0m\u001b[1;33m\u001b[0m\u001b[0m\n\u001b[0;32m    858\u001b[0m             \u001b[1;32melse\u001b[0m\u001b[1;33m:\u001b[0m\u001b[1;33m\u001b[0m\u001b[1;33m\u001b[0m\u001b[0m\n\u001b[1;32m--> 859\u001b[1;33m                 \u001b[0mself\u001b[0m\u001b[1;33m.\u001b[0m\u001b[0m_dispatch\u001b[0m\u001b[1;33m(\u001b[0m\u001b[0mtasks\u001b[0m\u001b[1;33m)\u001b[0m\u001b[1;33m\u001b[0m\u001b[1;33m\u001b[0m\u001b[0m\n\u001b[0m\u001b[0;32m    860\u001b[0m                 \u001b[1;32mreturn\u001b[0m \u001b[1;32mTrue\u001b[0m\u001b[1;33m\u001b[0m\u001b[1;33m\u001b[0m\u001b[0m\n\u001b[0;32m    861\u001b[0m \u001b[1;33m\u001b[0m\u001b[0m\n",
      "\u001b[1;32m~\\.conda\\envs\\mental\\lib\\site-packages\\joblib\\parallel.py\u001b[0m in \u001b[0;36m_dispatch\u001b[1;34m(self, batch)\u001b[0m\n\u001b[0;32m    775\u001b[0m         \u001b[1;32mwith\u001b[0m \u001b[0mself\u001b[0m\u001b[1;33m.\u001b[0m\u001b[0m_lock\u001b[0m\u001b[1;33m:\u001b[0m\u001b[1;33m\u001b[0m\u001b[1;33m\u001b[0m\u001b[0m\n\u001b[0;32m    776\u001b[0m             \u001b[0mjob_idx\u001b[0m \u001b[1;33m=\u001b[0m \u001b[0mlen\u001b[0m\u001b[1;33m(\u001b[0m\u001b[0mself\u001b[0m\u001b[1;33m.\u001b[0m\u001b[0m_jobs\u001b[0m\u001b[1;33m)\u001b[0m\u001b[1;33m\u001b[0m\u001b[1;33m\u001b[0m\u001b[0m\n\u001b[1;32m--> 777\u001b[1;33m             \u001b[0mjob\u001b[0m \u001b[1;33m=\u001b[0m \u001b[0mself\u001b[0m\u001b[1;33m.\u001b[0m\u001b[0m_backend\u001b[0m\u001b[1;33m.\u001b[0m\u001b[0mapply_async\u001b[0m\u001b[1;33m(\u001b[0m\u001b[0mbatch\u001b[0m\u001b[1;33m,\u001b[0m \u001b[0mcallback\u001b[0m\u001b[1;33m=\u001b[0m\u001b[0mcb\u001b[0m\u001b[1;33m)\u001b[0m\u001b[1;33m\u001b[0m\u001b[1;33m\u001b[0m\u001b[0m\n\u001b[0m\u001b[0;32m    778\u001b[0m             \u001b[1;31m# A job can complete so quickly than its callback is\u001b[0m\u001b[1;33m\u001b[0m\u001b[1;33m\u001b[0m\u001b[1;33m\u001b[0m\u001b[0m\n\u001b[0;32m    779\u001b[0m             \u001b[1;31m# called before we get here, causing self._jobs to\u001b[0m\u001b[1;33m\u001b[0m\u001b[1;33m\u001b[0m\u001b[1;33m\u001b[0m\u001b[0m\n",
      "\u001b[1;32m~\\.conda\\envs\\mental\\lib\\site-packages\\joblib\\_parallel_backends.py\u001b[0m in \u001b[0;36mapply_async\u001b[1;34m(self, func, callback)\u001b[0m\n\u001b[0;32m    206\u001b[0m     \u001b[1;32mdef\u001b[0m \u001b[0mapply_async\u001b[0m\u001b[1;33m(\u001b[0m\u001b[0mself\u001b[0m\u001b[1;33m,\u001b[0m \u001b[0mfunc\u001b[0m\u001b[1;33m,\u001b[0m \u001b[0mcallback\u001b[0m\u001b[1;33m=\u001b[0m\u001b[1;32mNone\u001b[0m\u001b[1;33m)\u001b[0m\u001b[1;33m:\u001b[0m\u001b[1;33m\u001b[0m\u001b[1;33m\u001b[0m\u001b[0m\n\u001b[0;32m    207\u001b[0m         \u001b[1;34m\"\"\"Schedule a func to be run\"\"\"\u001b[0m\u001b[1;33m\u001b[0m\u001b[1;33m\u001b[0m\u001b[0m\n\u001b[1;32m--> 208\u001b[1;33m         \u001b[0mresult\u001b[0m \u001b[1;33m=\u001b[0m \u001b[0mImmediateResult\u001b[0m\u001b[1;33m(\u001b[0m\u001b[0mfunc\u001b[0m\u001b[1;33m)\u001b[0m\u001b[1;33m\u001b[0m\u001b[1;33m\u001b[0m\u001b[0m\n\u001b[0m\u001b[0;32m    209\u001b[0m         \u001b[1;32mif\u001b[0m \u001b[0mcallback\u001b[0m\u001b[1;33m:\u001b[0m\u001b[1;33m\u001b[0m\u001b[1;33m\u001b[0m\u001b[0m\n\u001b[0;32m    210\u001b[0m             \u001b[0mcallback\u001b[0m\u001b[1;33m(\u001b[0m\u001b[0mresult\u001b[0m\u001b[1;33m)\u001b[0m\u001b[1;33m\u001b[0m\u001b[1;33m\u001b[0m\u001b[0m\n",
      "\u001b[1;32m~\\.conda\\envs\\mental\\lib\\site-packages\\joblib\\_parallel_backends.py\u001b[0m in \u001b[0;36m__init__\u001b[1;34m(self, batch)\u001b[0m\n\u001b[0;32m    570\u001b[0m         \u001b[1;31m# Don't delay the application, to avoid keeping the input\u001b[0m\u001b[1;33m\u001b[0m\u001b[1;33m\u001b[0m\u001b[1;33m\u001b[0m\u001b[0m\n\u001b[0;32m    571\u001b[0m         \u001b[1;31m# arguments in memory\u001b[0m\u001b[1;33m\u001b[0m\u001b[1;33m\u001b[0m\u001b[1;33m\u001b[0m\u001b[0m\n\u001b[1;32m--> 572\u001b[1;33m         \u001b[0mself\u001b[0m\u001b[1;33m.\u001b[0m\u001b[0mresults\u001b[0m \u001b[1;33m=\u001b[0m \u001b[0mbatch\u001b[0m\u001b[1;33m(\u001b[0m\u001b[1;33m)\u001b[0m\u001b[1;33m\u001b[0m\u001b[1;33m\u001b[0m\u001b[0m\n\u001b[0m\u001b[0;32m    573\u001b[0m \u001b[1;33m\u001b[0m\u001b[0m\n\u001b[0;32m    574\u001b[0m     \u001b[1;32mdef\u001b[0m \u001b[0mget\u001b[0m\u001b[1;33m(\u001b[0m\u001b[0mself\u001b[0m\u001b[1;33m)\u001b[0m\u001b[1;33m:\u001b[0m\u001b[1;33m\u001b[0m\u001b[1;33m\u001b[0m\u001b[0m\n",
      "\u001b[1;32m~\\.conda\\envs\\mental\\lib\\site-packages\\joblib\\parallel.py\u001b[0m in \u001b[0;36m__call__\u001b[1;34m(self)\u001b[0m\n\u001b[0;32m    260\u001b[0m         \u001b[1;31m# change the default number of processes to -1\u001b[0m\u001b[1;33m\u001b[0m\u001b[1;33m\u001b[0m\u001b[1;33m\u001b[0m\u001b[0m\n\u001b[0;32m    261\u001b[0m         \u001b[1;32mwith\u001b[0m \u001b[0mparallel_backend\u001b[0m\u001b[1;33m(\u001b[0m\u001b[0mself\u001b[0m\u001b[1;33m.\u001b[0m\u001b[0m_backend\u001b[0m\u001b[1;33m,\u001b[0m \u001b[0mn_jobs\u001b[0m\u001b[1;33m=\u001b[0m\u001b[0mself\u001b[0m\u001b[1;33m.\u001b[0m\u001b[0m_n_jobs\u001b[0m\u001b[1;33m)\u001b[0m\u001b[1;33m:\u001b[0m\u001b[1;33m\u001b[0m\u001b[1;33m\u001b[0m\u001b[0m\n\u001b[1;32m--> 262\u001b[1;33m             return [func(*args, **kwargs)\n\u001b[0m\u001b[0;32m    263\u001b[0m                     for func, args, kwargs in self.items]\n\u001b[0;32m    264\u001b[0m \u001b[1;33m\u001b[0m\u001b[0m\n",
      "\u001b[1;32m~\\.conda\\envs\\mental\\lib\\site-packages\\joblib\\parallel.py\u001b[0m in \u001b[0;36m<listcomp>\u001b[1;34m(.0)\u001b[0m\n\u001b[0;32m    260\u001b[0m         \u001b[1;31m# change the default number of processes to -1\u001b[0m\u001b[1;33m\u001b[0m\u001b[1;33m\u001b[0m\u001b[1;33m\u001b[0m\u001b[0m\n\u001b[0;32m    261\u001b[0m         \u001b[1;32mwith\u001b[0m \u001b[0mparallel_backend\u001b[0m\u001b[1;33m(\u001b[0m\u001b[0mself\u001b[0m\u001b[1;33m.\u001b[0m\u001b[0m_backend\u001b[0m\u001b[1;33m,\u001b[0m \u001b[0mn_jobs\u001b[0m\u001b[1;33m=\u001b[0m\u001b[0mself\u001b[0m\u001b[1;33m.\u001b[0m\u001b[0m_n_jobs\u001b[0m\u001b[1;33m)\u001b[0m\u001b[1;33m:\u001b[0m\u001b[1;33m\u001b[0m\u001b[1;33m\u001b[0m\u001b[0m\n\u001b[1;32m--> 262\u001b[1;33m             return [func(*args, **kwargs)\n\u001b[0m\u001b[0;32m    263\u001b[0m                     for func, args, kwargs in self.items]\n\u001b[0;32m    264\u001b[0m \u001b[1;33m\u001b[0m\u001b[0m\n",
      "\u001b[1;32m~\\.conda\\envs\\mental\\lib\\site-packages\\sklearn\\utils\\fixes.py\u001b[0m in \u001b[0;36m__call__\u001b[1;34m(self, *args, **kwargs)\u001b[0m\n\u001b[0;32m    220\u001b[0m     \u001b[1;32mdef\u001b[0m \u001b[0m__call__\u001b[0m\u001b[1;33m(\u001b[0m\u001b[0mself\u001b[0m\u001b[1;33m,\u001b[0m \u001b[1;33m*\u001b[0m\u001b[0margs\u001b[0m\u001b[1;33m,\u001b[0m \u001b[1;33m**\u001b[0m\u001b[0mkwargs\u001b[0m\u001b[1;33m)\u001b[0m\u001b[1;33m:\u001b[0m\u001b[1;33m\u001b[0m\u001b[1;33m\u001b[0m\u001b[0m\n\u001b[0;32m    221\u001b[0m         \u001b[1;32mwith\u001b[0m \u001b[0mconfig_context\u001b[0m\u001b[1;33m(\u001b[0m\u001b[1;33m**\u001b[0m\u001b[0mself\u001b[0m\u001b[1;33m.\u001b[0m\u001b[0mconfig\u001b[0m\u001b[1;33m)\u001b[0m\u001b[1;33m:\u001b[0m\u001b[1;33m\u001b[0m\u001b[1;33m\u001b[0m\u001b[0m\n\u001b[1;32m--> 222\u001b[1;33m             \u001b[1;32mreturn\u001b[0m \u001b[0mself\u001b[0m\u001b[1;33m.\u001b[0m\u001b[0mfunction\u001b[0m\u001b[1;33m(\u001b[0m\u001b[1;33m*\u001b[0m\u001b[0margs\u001b[0m\u001b[1;33m,\u001b[0m \u001b[1;33m**\u001b[0m\u001b[0mkwargs\u001b[0m\u001b[1;33m)\u001b[0m\u001b[1;33m\u001b[0m\u001b[1;33m\u001b[0m\u001b[0m\n\u001b[0m",
      "\u001b[1;32m~\\.conda\\envs\\mental\\lib\\site-packages\\sklearn\\inspection\\_permutation_importance.py\u001b[0m in \u001b[0;36m_calculate_permutation_scores\u001b[1;34m(estimator, X, y, sample_weight, col_idx, random_state, n_repeats, scorer)\u001b[0m\n\u001b[0;32m     39\u001b[0m         \u001b[1;32melse\u001b[0m\u001b[1;33m:\u001b[0m\u001b[1;33m\u001b[0m\u001b[1;33m\u001b[0m\u001b[0m\n\u001b[0;32m     40\u001b[0m             \u001b[0mX_permuted\u001b[0m\u001b[1;33m[\u001b[0m\u001b[1;33m:\u001b[0m\u001b[1;33m,\u001b[0m \u001b[0mcol_idx\u001b[0m\u001b[1;33m]\u001b[0m \u001b[1;33m=\u001b[0m \u001b[0mX_permuted\u001b[0m\u001b[1;33m[\u001b[0m\u001b[0mshuffling_idx\u001b[0m\u001b[1;33m,\u001b[0m \u001b[0mcol_idx\u001b[0m\u001b[1;33m]\u001b[0m\u001b[1;33m\u001b[0m\u001b[1;33m\u001b[0m\u001b[0m\n\u001b[1;32m---> 41\u001b[1;33m         feature_score = _weights_scorer(\n\u001b[0m\u001b[0;32m     42\u001b[0m             \u001b[0mscorer\u001b[0m\u001b[1;33m,\u001b[0m \u001b[0mestimator\u001b[0m\u001b[1;33m,\u001b[0m \u001b[0mX_permuted\u001b[0m\u001b[1;33m,\u001b[0m \u001b[0my\u001b[0m\u001b[1;33m,\u001b[0m \u001b[0msample_weight\u001b[0m\u001b[1;33m\u001b[0m\u001b[1;33m\u001b[0m\u001b[0m\n\u001b[0;32m     43\u001b[0m         )\n",
      "\u001b[1;32m~\\.conda\\envs\\mental\\lib\\site-packages\\sklearn\\inspection\\_permutation_importance.py\u001b[0m in \u001b[0;36m_weights_scorer\u001b[1;34m(scorer, estimator, X, y, sample_weight)\u001b[0m\n\u001b[0;32m     14\u001b[0m     \u001b[1;32mif\u001b[0m \u001b[0msample_weight\u001b[0m \u001b[1;32mis\u001b[0m \u001b[1;32mnot\u001b[0m \u001b[1;32mNone\u001b[0m\u001b[1;33m:\u001b[0m\u001b[1;33m\u001b[0m\u001b[1;33m\u001b[0m\u001b[0m\n\u001b[0;32m     15\u001b[0m         \u001b[1;32mreturn\u001b[0m \u001b[0mscorer\u001b[0m\u001b[1;33m(\u001b[0m\u001b[0mestimator\u001b[0m\u001b[1;33m,\u001b[0m \u001b[0mX\u001b[0m\u001b[1;33m,\u001b[0m \u001b[0my\u001b[0m\u001b[1;33m,\u001b[0m \u001b[0msample_weight\u001b[0m\u001b[1;33m)\u001b[0m\u001b[1;33m\u001b[0m\u001b[1;33m\u001b[0m\u001b[0m\n\u001b[1;32m---> 16\u001b[1;33m     \u001b[1;32mreturn\u001b[0m \u001b[0mscorer\u001b[0m\u001b[1;33m(\u001b[0m\u001b[0mestimator\u001b[0m\u001b[1;33m,\u001b[0m \u001b[0mX\u001b[0m\u001b[1;33m,\u001b[0m \u001b[0my\u001b[0m\u001b[1;33m)\u001b[0m\u001b[1;33m\u001b[0m\u001b[1;33m\u001b[0m\u001b[0m\n\u001b[0m\u001b[0;32m     17\u001b[0m \u001b[1;33m\u001b[0m\u001b[0m\n\u001b[0;32m     18\u001b[0m \u001b[1;33m\u001b[0m\u001b[0m\n",
      "\u001b[1;32m~\\.conda\\envs\\mental\\lib\\site-packages\\sklearn\\metrics\\_scorer.py\u001b[0m in \u001b[0;36m_passthrough_scorer\u001b[1;34m(estimator, *args, **kwargs)\u001b[0m\n\u001b[0;32m    395\u001b[0m \u001b[1;32mdef\u001b[0m \u001b[0m_passthrough_scorer\u001b[0m\u001b[1;33m(\u001b[0m\u001b[0mestimator\u001b[0m\u001b[1;33m,\u001b[0m \u001b[1;33m*\u001b[0m\u001b[0margs\u001b[0m\u001b[1;33m,\u001b[0m \u001b[1;33m**\u001b[0m\u001b[0mkwargs\u001b[0m\u001b[1;33m)\u001b[0m\u001b[1;33m:\u001b[0m\u001b[1;33m\u001b[0m\u001b[1;33m\u001b[0m\u001b[0m\n\u001b[0;32m    396\u001b[0m     \u001b[1;34m\"\"\"Function that wraps estimator.score\"\"\"\u001b[0m\u001b[1;33m\u001b[0m\u001b[1;33m\u001b[0m\u001b[0m\n\u001b[1;32m--> 397\u001b[1;33m     \u001b[1;32mreturn\u001b[0m \u001b[0mestimator\u001b[0m\u001b[1;33m.\u001b[0m\u001b[0mscore\u001b[0m\u001b[1;33m(\u001b[0m\u001b[1;33m*\u001b[0m\u001b[0margs\u001b[0m\u001b[1;33m,\u001b[0m \u001b[1;33m**\u001b[0m\u001b[0mkwargs\u001b[0m\u001b[1;33m)\u001b[0m\u001b[1;33m\u001b[0m\u001b[1;33m\u001b[0m\u001b[0m\n\u001b[0m\u001b[0;32m    398\u001b[0m \u001b[1;33m\u001b[0m\u001b[0m\n\u001b[0;32m    399\u001b[0m \u001b[1;33m\u001b[0m\u001b[0m\n",
      "\u001b[1;32m~\\.conda\\envs\\mental\\lib\\site-packages\\sklearn\\base.py\u001b[0m in \u001b[0;36mscore\u001b[1;34m(self, X, y, sample_weight)\u001b[0m\n\u001b[0;32m    498\u001b[0m         \"\"\"\n\u001b[0;32m    499\u001b[0m         \u001b[1;32mfrom\u001b[0m \u001b[1;33m.\u001b[0m\u001b[0mmetrics\u001b[0m \u001b[1;32mimport\u001b[0m \u001b[0maccuracy_score\u001b[0m\u001b[1;33m\u001b[0m\u001b[1;33m\u001b[0m\u001b[0m\n\u001b[1;32m--> 500\u001b[1;33m         \u001b[1;32mreturn\u001b[0m \u001b[0maccuracy_score\u001b[0m\u001b[1;33m(\u001b[0m\u001b[0my\u001b[0m\u001b[1;33m,\u001b[0m \u001b[0mself\u001b[0m\u001b[1;33m.\u001b[0m\u001b[0mpredict\u001b[0m\u001b[1;33m(\u001b[0m\u001b[0mX\u001b[0m\u001b[1;33m)\u001b[0m\u001b[1;33m,\u001b[0m \u001b[0msample_weight\u001b[0m\u001b[1;33m=\u001b[0m\u001b[0msample_weight\u001b[0m\u001b[1;33m)\u001b[0m\u001b[1;33m\u001b[0m\u001b[1;33m\u001b[0m\u001b[0m\n\u001b[0m\u001b[0;32m    501\u001b[0m \u001b[1;33m\u001b[0m\u001b[0m\n\u001b[0;32m    502\u001b[0m     \u001b[1;32mdef\u001b[0m \u001b[0m_more_tags\u001b[0m\u001b[1;33m(\u001b[0m\u001b[0mself\u001b[0m\u001b[1;33m)\u001b[0m\u001b[1;33m:\u001b[0m\u001b[1;33m\u001b[0m\u001b[1;33m\u001b[0m\u001b[0m\n",
      "\u001b[1;32m~\\.conda\\envs\\mental\\lib\\site-packages\\sklearn\\svm\\_base.py\u001b[0m in \u001b[0;36mpredict\u001b[1;34m(self, X)\u001b[0m\n\u001b[0;32m    622\u001b[0m             \u001b[0my\u001b[0m \u001b[1;33m=\u001b[0m \u001b[0mnp\u001b[0m\u001b[1;33m.\u001b[0m\u001b[0margmax\u001b[0m\u001b[1;33m(\u001b[0m\u001b[0mself\u001b[0m\u001b[1;33m.\u001b[0m\u001b[0mdecision_function\u001b[0m\u001b[1;33m(\u001b[0m\u001b[0mX\u001b[0m\u001b[1;33m)\u001b[0m\u001b[1;33m,\u001b[0m \u001b[0maxis\u001b[0m\u001b[1;33m=\u001b[0m\u001b[1;36m1\u001b[0m\u001b[1;33m)\u001b[0m\u001b[1;33m\u001b[0m\u001b[1;33m\u001b[0m\u001b[0m\n\u001b[0;32m    623\u001b[0m         \u001b[1;32melse\u001b[0m\u001b[1;33m:\u001b[0m\u001b[1;33m\u001b[0m\u001b[1;33m\u001b[0m\u001b[0m\n\u001b[1;32m--> 624\u001b[1;33m             \u001b[0my\u001b[0m \u001b[1;33m=\u001b[0m \u001b[0msuper\u001b[0m\u001b[1;33m(\u001b[0m\u001b[1;33m)\u001b[0m\u001b[1;33m.\u001b[0m\u001b[0mpredict\u001b[0m\u001b[1;33m(\u001b[0m\u001b[0mX\u001b[0m\u001b[1;33m)\u001b[0m\u001b[1;33m\u001b[0m\u001b[1;33m\u001b[0m\u001b[0m\n\u001b[0m\u001b[0;32m    625\u001b[0m         \u001b[1;32mreturn\u001b[0m \u001b[0mself\u001b[0m\u001b[1;33m.\u001b[0m\u001b[0mclasses_\u001b[0m\u001b[1;33m.\u001b[0m\u001b[0mtake\u001b[0m\u001b[1;33m(\u001b[0m\u001b[0mnp\u001b[0m\u001b[1;33m.\u001b[0m\u001b[0masarray\u001b[0m\u001b[1;33m(\u001b[0m\u001b[0my\u001b[0m\u001b[1;33m,\u001b[0m \u001b[0mdtype\u001b[0m\u001b[1;33m=\u001b[0m\u001b[0mnp\u001b[0m\u001b[1;33m.\u001b[0m\u001b[0mintp\u001b[0m\u001b[1;33m)\u001b[0m\u001b[1;33m)\u001b[0m\u001b[1;33m\u001b[0m\u001b[1;33m\u001b[0m\u001b[0m\n\u001b[0;32m    626\u001b[0m \u001b[1;33m\u001b[0m\u001b[0m\n",
      "\u001b[1;32m~\\.conda\\envs\\mental\\lib\\site-packages\\sklearn\\svm\\_base.py\u001b[0m in \u001b[0;36mpredict\u001b[1;34m(self, X)\u001b[0m\n\u001b[0;32m    342\u001b[0m         \u001b[0mX\u001b[0m \u001b[1;33m=\u001b[0m \u001b[0mself\u001b[0m\u001b[1;33m.\u001b[0m\u001b[0m_validate_for_predict\u001b[0m\u001b[1;33m(\u001b[0m\u001b[0mX\u001b[0m\u001b[1;33m)\u001b[0m\u001b[1;33m\u001b[0m\u001b[1;33m\u001b[0m\u001b[0m\n\u001b[0;32m    343\u001b[0m         \u001b[0mpredict\u001b[0m \u001b[1;33m=\u001b[0m \u001b[0mself\u001b[0m\u001b[1;33m.\u001b[0m\u001b[0m_sparse_predict\u001b[0m \u001b[1;32mif\u001b[0m \u001b[0mself\u001b[0m\u001b[1;33m.\u001b[0m\u001b[0m_sparse\u001b[0m \u001b[1;32melse\u001b[0m \u001b[0mself\u001b[0m\u001b[1;33m.\u001b[0m\u001b[0m_dense_predict\u001b[0m\u001b[1;33m\u001b[0m\u001b[1;33m\u001b[0m\u001b[0m\n\u001b[1;32m--> 344\u001b[1;33m         \u001b[1;32mreturn\u001b[0m \u001b[0mpredict\u001b[0m\u001b[1;33m(\u001b[0m\u001b[0mX\u001b[0m\u001b[1;33m)\u001b[0m\u001b[1;33m\u001b[0m\u001b[1;33m\u001b[0m\u001b[0m\n\u001b[0m\u001b[0;32m    345\u001b[0m \u001b[1;33m\u001b[0m\u001b[0m\n\u001b[0;32m    346\u001b[0m     \u001b[1;32mdef\u001b[0m \u001b[0m_dense_predict\u001b[0m\u001b[1;33m(\u001b[0m\u001b[0mself\u001b[0m\u001b[1;33m,\u001b[0m \u001b[0mX\u001b[0m\u001b[1;33m)\u001b[0m\u001b[1;33m:\u001b[0m\u001b[1;33m\u001b[0m\u001b[1;33m\u001b[0m\u001b[0m\n",
      "\u001b[1;32m~\\.conda\\envs\\mental\\lib\\site-packages\\sklearn\\svm\\_base.py\u001b[0m in \u001b[0;36m_sparse_predict\u001b[1;34m(self, X)\u001b[0m\n\u001b[0;32m    376\u001b[0m         \u001b[0mC\u001b[0m \u001b[1;33m=\u001b[0m \u001b[1;36m0.0\u001b[0m  \u001b[1;31m# C is not useful here\u001b[0m\u001b[1;33m\u001b[0m\u001b[1;33m\u001b[0m\u001b[0m\n\u001b[0;32m    377\u001b[0m \u001b[1;33m\u001b[0m\u001b[0m\n\u001b[1;32m--> 378\u001b[1;33m         return libsvm_sparse.libsvm_sparse_predict(\n\u001b[0m\u001b[0;32m    379\u001b[0m             \u001b[0mX\u001b[0m\u001b[1;33m.\u001b[0m\u001b[0mdata\u001b[0m\u001b[1;33m,\u001b[0m \u001b[0mX\u001b[0m\u001b[1;33m.\u001b[0m\u001b[0mindices\u001b[0m\u001b[1;33m,\u001b[0m \u001b[0mX\u001b[0m\u001b[1;33m.\u001b[0m\u001b[0mindptr\u001b[0m\u001b[1;33m,\u001b[0m\u001b[1;33m\u001b[0m\u001b[1;33m\u001b[0m\u001b[0m\n\u001b[0;32m    380\u001b[0m             \u001b[0mself\u001b[0m\u001b[1;33m.\u001b[0m\u001b[0msupport_vectors_\u001b[0m\u001b[1;33m.\u001b[0m\u001b[0mdata\u001b[0m\u001b[1;33m,\u001b[0m\u001b[1;33m\u001b[0m\u001b[1;33m\u001b[0m\u001b[0m\n",
      "\u001b[1;31mKeyboardInterrupt\u001b[0m: "
     ]
    }
   ],
   "source": [
    "from sklearn.inspection import permutation_importance\n",
    "\n",
    "permuted_feature_imp = permutation_importance(clf, x_valid.toarray(), y_valid, \n",
    "                                              random_state=42 , n_repeats=1,)\n"
   ]
  },
  {
   "cell_type": "code",
   "execution_count": 4,
   "id": "15f981d3",
   "metadata": {},
   "outputs": [],
   "source": [
    "f_idx = clf.feature_importances_.argsort()[::-1][:16] # sort assending\n",
    "f = clf.feature_importances_\n",
    "words = features.get_feature_names()\n",
    "ww  = [words[i].split(\"words__\")[-1] for i in f_idx]\n",
    "ff = f[f_idx]\n"
   ]
  },
  {
   "cell_type": "code",
   "execution_count": 60,
   "id": "fe5a139b",
   "metadata": {
    "scrolled": true
   },
   "outputs": [
    {
     "data": {
      "image/png": "[encoded data removed]",
      "text/plain": [
       "<Figure size 576x432 with 1 Axes>"
      ]
     },
     "metadata": {
      "needs_background": "light"
     },
     "output_type": "display_data"
    }
   ],
   "source": [
    "plt.figure(figsize=(8, 6))\n",
    "plt.barh(ww, ff, color=\"#4177a6\")\n",
    "plt.gca().invert_yaxis()\n",
    "plt.savefig(\"RF_feature_extraction.png\")"
   ]
  },
  {
   "cell_type": "code",
   "execution_count": null,
   "id": "896bcd62",
   "metadata": {},
   "outputs": [],
   "source": []
  },
  {
   "cell_type": "code",
   "execution_count": null,
   "id": "c36ffd7e",
   "metadata": {},
   "outputs": [],
   "source": []
  },
  {
   "cell_type": "code",
   "execution_count": null,
   "id": "d07c7c1a",
   "metadata": {},
   "outputs": [],
   "source": []
  },
  {
   "cell_type": "code",
   "execution_count": null,
   "id": "87135aed",
   "metadata": {},
   "outputs": [],
   "source": []
  },
  {
   "cell_type": "code",
   "execution_count": null,
   "id": "e65e5093",
   "metadata": {},
   "outputs": [],
   "source": []
  },
  {
   "cell_type": "code",
   "execution_count": 500,
   "id": "e1d674c7",
   "metadata": {},
   "outputs": [
    {
     "data": {
      "image/png": "[encoded data removed]",
      "text/plain": [
       "<Figure size 432x288 with 1 Axes>"
      ]
     },
     "metadata": {
      "needs_background": "light"
     },
     "output_type": "display_data"
    }
   ],
   "source": [
    "neg = df[df.Class_2016 == 0.0].Class_2016\n",
    "pos = df[df.Class_2016 == 1.0].Class_2016\n",
    "\n",
    "plt.figure()\n",
    "plt.hist(neg, label=\"Ej Ramlat = {}K\".format(len(neg)//1000), width=0.4, color=\"#4177a6\")\n",
    "plt.hist(pos, label=\"Ramlat     = {}\".format(len(pos)), width=0.4, color=\"#f04e4c\")\n",
    "plt.xlim([-0.05, 1.45])\n",
    "plt.xticks([0.2, 1.2], [\"Ej Ramlat\", \"Ramlat\"], fontsize=12)\n",
    "plt.yticks([300, 50000, 100000, 150000])\n",
    "plt.legend()\n",
    "plt.savefig(\"2016_class_imbalance.png\")"
   ]
  },
  {
   "cell_type": "code",
   "execution_count": 501,
   "id": "f808ecd9",
   "metadata": {},
   "outputs": [],
   "source": [
    "pos_svc = pd.read_csv(\"../data/pred_pos_SVC_2017.csv\")\n",
    "pos_rf = pd.read_csv(\"../data/pred_pos_RF_2017.csv\")\n",
    "pos_bert = pd.read_csv(\"../data/pred_pos_bert_2017.csv\")"
   ]
  },
  {
   "cell_type": "code",
   "execution_count": 502,
   "id": "fe53b448",
   "metadata": {},
   "outputs": [
    {
     "data": {
      "text/plain": [
       "(2370, 905, 562)"
      ]
     },
     "execution_count": 502,
     "metadata": {},
     "output_type": "execute_result"
    }
   ],
   "source": [
    "len(pos_bert), len(pos_svc), len(pos_rf)"
   ]
  },
  {
   "cell_type": "code",
   "execution_count": 506,
   "id": "0e0327de",
   "metadata": {},
   "outputs": [
    {
     "data": {
      "text/plain": [
       "array([0., 0., 1., ..., 0., 0., 0.])"
      ]
     },
     "execution_count": 506,
     "metadata": {},
     "output_type": "execute_result"
    }
   ],
   "source": [
    "neg = df[df.Class_2016 == 0.0].Class_2016\n",
    "pos = df[df.Class_2016 == 1.0].Class_2016\n",
    "\n",
    "plt.figure()\n",
    "plt.hist(neg, label=\"Ej Ramlat = {}K\".format(len(neg)//1000), width=0.4, color=\"#4177a6\")\n",
    "plt.hist(pos, label=\"Ramlat     = {}\".format(len(pos)), width=0.4, color=\"#f04e4c\")\n",
    "plt.xlim([-0.05, 1.45])\n",
    "plt.xticks([0.2, 1.2], [\"Ej Ramlat\", \"Ramlat\"], fontsize=12)\n",
    "plt.yticks([300, 50000, 100000, 150000])\n",
    "plt.legend()"
   ]
  },
  {
   "cell_type": "code",
   "execution_count": 521,
   "id": "24d37bdd",
   "metadata": {},
   "outputs": [
    {
     "data": {
      "text/plain": [
       "(array([302.,   0.,   0.,   0.,   0.,   0.,   0.,   0.,   0.,  61.]),\n",
       " array([0. , 0.1, 0.2, 0.3, 0.4, 0.5, 0.6, 0.7, 0.8, 0.9, 1. ]),\n",
       " <a list of 10 Patch objects>)"
      ]
     },
     "execution_count": 521,
     "metadata": {},
     "output_type": "execute_result"
    },
    {
     "data": {
      "image/png": "[encoded data removed]",
      "text/plain": [
       "<Figure size 432x288 with 1 Axes>"
      ]
     },
     "metadata": {
      "needs_background": "light"
     },
     "output_type": "display_data"
    }
   ],
   "source": [
    "plt.hist(train.label, color=\"#4177a6\")\n",
    "plt.hist(valid.label"
   ]
  },
  {
   "cell_type": "code",
   "execution_count": 520,
   "id": "418e7913",
   "metadata": {},
   "outputs": [
    {
     "name": "stdout",
     "output_type": "stream",
     "text": [
      "17.94370033921028\n",
      "40.0\n"
     ]
    }
   ],
   "source": [
    "words = []\n",
    "for w in df.text_with_features:\n",
    "    words.append(len(w))\n",
    "    \n",
    "max_char_len = 200\n",
    "avg_chars = sum(words)/len(words)\n",
    "# avegage word lenght is 5 char so estimate\n",
    "max_word_len = max_char_len/5\n",
    "avg_words = avg_chars/5\n",
    "\n",
    "print(avg_words)\n",
    "print(max_word_len)"
   ]
  },
  {
   "cell_type": "code",
   "execution_count": null,
   "id": "c8893b34",
   "metadata": {},
   "outputs": [],
   "source": []
  },
  {
   "cell_type": "code",
   "execution_count": 567,
   "id": "3275b139",
   "metadata": {},
   "outputs": [
    {
     "data": {
      "image/png": "[encoded data removed]",
      "text/plain": [
       "<Figure size 576x360 with 2 Axes>"
      ]
     },
     "metadata": {
      "needs_background": "light"
     },
     "output_type": "display_data"
    },
    {
     "data": {
      "image/png": "[encoded data removed]",
      "text/plain": [
       "<Figure size 576x360 with 2 Axes>"
      ]
     },
     "metadata": {
      "needs_background": "light"
     },
     "output_type": "display_data"
    },
    {
     "data": {
      "image/png": "[encoded data removed]",
      "text/plain": [
       "<Figure size 576x360 with 2 Axes>"
      ]
     },
     "metadata": {
      "needs_background": "light"
     },
     "output_type": "display_data"
    }
   ],
   "source": [
    "# SVC 2017 test\n",
    "import numpy as np\n",
    "import itertools\n",
    "\n",
    "# SVC\n",
    "plot_confusion_matrix(cm=np.array([[168504, 472], [28, 262]]), class_names=class_names, normalized=False, figure_name=\"SCV_2017.png\")\n",
    "\n",
    "# RF\n",
    "plot_confusion_matrix(cm=np.array([[168701, 275], [51, 239]])s, class_names=class_names, normalized=False, figure_name=\"RF_2017.png\")\n",
    "              \n",
    "# Bert\n",
    "plot_confusion_matrix(cm=np.array([[167355, 1621], [9, 281]]), class_names=class_names, normalized=False, figure_name=\"BERT_2017.png\")"
   ]
  },
  {
   "cell_type": "code",
   "execution_count": 62,
   "id": "96d41f8d",
   "metadata": {},
   "outputs": [
    {
     "data": {
      "text/plain": [
       "array([[0.99337748, 0.00662252],\n",
       "       [0.27868852, 0.72131148]])"
      ]
     },
     "execution_count": 62,
     "metadata": {},
     "output_type": "execute_result"
    }
   ],
   "source": [
    "disp.confusion_matrix"
   ]
  },
  {
   "cell_type": "code",
   "execution_count": null,
   "id": "aeccd8b1",
   "metadata": {},
   "outputs": [],
   "source": [
    "sa"
   ]
  },
  {
   "cell_type": "code",
   "execution_count": null,
   "id": "a632df2b",
   "metadata": {},
   "outputs": [],
   "source": [
    "asd"
   ]
  }
 ],
 "metadata": {
  "kernelspec": {
   "display_name": "Python 3 (ipykernel)",
   "language": "python",
   "name": "python3"
  },
  "language_info": {
   "codemirror_mode": {
    "name": "ipython",
    "version": 3
   },
   "file_extension": ".py",
   "mimetype": "text/x-python",
   "name": "python",
   "nbconvert_exporter": "python",
   "pygments_lexer": "ipython3",
   "version": "3.8.5"
  }
 },
 "nbformat": 4,
 "nbformat_minor": 5
}
